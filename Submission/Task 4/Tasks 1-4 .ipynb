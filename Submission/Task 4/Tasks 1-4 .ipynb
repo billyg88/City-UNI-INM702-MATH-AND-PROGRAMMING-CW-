{
 "cells": [
  {
   "cell_type": "markdown",
   "metadata": {},
   "source": [
    "#  Jupyter notebook for tasks 1-4\n",
    "\n",
    "### This notebook covers tasks 1 through 4 sequentially."
   ]
  },
  {
   "cell_type": "code",
   "execution_count": 1,
   "metadata": {},
   "outputs": [
    {
     "data": {
      "text/plain": [
       "<mtrand.RandomState at 0x1861d475900>"
      ]
     },
     "execution_count": 1,
     "metadata": {},
     "output_type": "execute_result"
    }
   ],
   "source": [
    "import numpy as np # import numpy for linear algebra operations \n",
    "np.random.seed(8)\n",
    "np.random.RandomState(8)"
   ]
  },
  {
   "cell_type": "markdown",
   "metadata": {},
   "source": [
    "# Task 1\n",
    "\n",
    "### Implementing linear and Relu layers \n",
    "\n",
    "* A layer can be represnted as a matrix transformation plus\n",
    "* an activation functions\n",
    "\n",
    "__Functions__\n",
    "\n",
    "* Linear function is almost always used in the input layer of a Neural Network. The output is the same as the input.\n",
    "\n",
    "* ReLu (Rectified Linear Unit) is used in the hidden layers of an NN. This functions adds the much needed non-linearity.\n",
    "    The output vector is the same dimensionality as the input, it masks however the negative elements with 0s."
   ]
  },
  {
   "cell_type": "code",
   "execution_count": 2,
   "metadata": {},
   "outputs": [],
   "source": [
    "weight_matrix = np.random.randn(5,5)\n",
    "vector = np.random.randn(5)"
   ]
  },
  {
   "cell_type": "code",
   "execution_count": 3,
   "metadata": {},
   "outputs": [
    {
     "data": {
      "text/plain": [
       "array([-0.48354095,  0.53546825,  1.16614049,  0.16168311, -0.67283393])"
      ]
     },
     "execution_count": 3,
     "metadata": {},
     "output_type": "execute_result"
    }
   ],
   "source": [
    "vector"
   ]
  },
  {
   "cell_type": "code",
   "execution_count": 4,
   "metadata": {},
   "outputs": [
    {
     "data": {
      "text/plain": [
       "array([[ 0.09120472,  1.09128273, -1.94697031, -1.38634953, -2.29649157],\n",
       "       [ 2.4098343 ,  1.72783617,  2.20455628,  0.79482764,  0.9764211 ],\n",
       "       [-1.18342715,  1.91636361, -1.1233268 , -0.66403547, -0.37835857],\n",
       "       [-0.79161527,  0.85954811, -0.230789  , -0.06566103, -0.20863623],\n",
       "       [ 1.34686857, -0.6069528 , -0.17424821,  0.42405142, -1.6459901 ]])"
      ]
     },
     "execution_count": 4,
     "metadata": {},
     "output_type": "execute_result"
    }
   ],
   "source": [
    "weight_matrix"
   ]
  },
  {
   "cell_type": "code",
   "execution_count": 5,
   "metadata": {},
   "outputs": [],
   "source": [
    "transformed_vector = np.dot(vector,weight_matrix)"
   ]
  },
  {
   "cell_type": "code",
   "execution_count": 6,
   "metadata": {},
   "outputs": [
    {
     "data": {
      "text/plain": [
       "array([-1.16796345,  3.17962356,  0.89187833,  0.02567063,  2.265816  ])"
      ]
     },
     "execution_count": 6,
     "metadata": {},
     "output_type": "execute_result"
    }
   ],
   "source": [
    "transformed_vector"
   ]
  },
  {
   "cell_type": "code",
   "execution_count": 7,
   "metadata": {},
   "outputs": [],
   "source": [
    "# Relu function \n",
    "def relu_activation_batch(matrix):\n",
    "        \n",
    "    return np.maximum(0,matrix)"
   ]
  },
  {
   "cell_type": "code",
   "execution_count": 8,
   "metadata": {},
   "outputs": [
    {
     "data": {
      "text/plain": [
       "array([[0.09120472, 1.09128273, 0.        , 0.        , 0.        ],\n",
       "       [2.4098343 , 1.72783617, 2.20455628, 0.79482764, 0.9764211 ],\n",
       "       [0.        , 1.91636361, 0.        , 0.        , 0.        ],\n",
       "       [0.        , 0.85954811, 0.        , 0.        , 0.        ],\n",
       "       [1.34686857, 0.        , 0.        , 0.42405142, 0.        ]])"
      ]
     },
     "execution_count": 8,
     "metadata": {},
     "output_type": "execute_result"
    }
   ],
   "source": [
    "relu_activation_batch(weight_matrix)"
   ]
  },
  {
   "cell_type": "code",
   "execution_count": 9,
   "metadata": {},
   "outputs": [],
   "source": [
    "# Linear function \n",
    "def linear_activation_batch(matrix):\n",
    "    \n",
    "    return matrix"
   ]
  },
  {
   "cell_type": "code",
   "execution_count": 10,
   "metadata": {},
   "outputs": [
    {
     "data": {
      "text/plain": [
       "array([[ 0.09120472,  1.09128273, -1.94697031, -1.38634953, -2.29649157],\n",
       "       [ 2.4098343 ,  1.72783617,  2.20455628,  0.79482764,  0.9764211 ],\n",
       "       [-1.18342715,  1.91636361, -1.1233268 , -0.66403547, -0.37835857],\n",
       "       [-0.79161527,  0.85954811, -0.230789  , -0.06566103, -0.20863623],\n",
       "       [ 1.34686857, -0.6069528 , -0.17424821,  0.42405142, -1.6459901 ]])"
      ]
     },
     "execution_count": 10,
     "metadata": {},
     "output_type": "execute_result"
    }
   ],
   "source": [
    "linear_activation_batch(weight_matrix)"
   ]
  },
  {
   "cell_type": "markdown",
   "metadata": {},
   "source": [
    "### Function Derivatives \n",
    "\n",
    "__The derivatives of the activation functions are used to calculate the updates for the weights__\n",
    "\n",
    "* The derivative of the ReLu is defined as: \n",
    "\n",
    "    x <= 0 then f(x) = 0, else f(x) = 1"
   ]
  },
  {
   "cell_type": "code",
   "execution_count": 11,
   "metadata": {},
   "outputs": [],
   "source": [
    "def relu_derivative_batch(matrix):\n",
    "          \n",
    "    matrix[matrix<=0] = 0\n",
    "    matrix[matrix>0] = 1\n",
    "        \n",
    "    return matrix\n",
    "  "
   ]
  },
  {
   "cell_type": "code",
   "execution_count": 12,
   "metadata": {},
   "outputs": [
    {
     "data": {
      "text/plain": [
       "array([[1., 1., 0., 0., 0.],\n",
       "       [1., 1., 1., 1., 1.],\n",
       "       [0., 1., 0., 0., 0.],\n",
       "       [0., 1., 0., 0., 0.],\n",
       "       [1., 0., 0., 1., 0.]])"
      ]
     },
     "execution_count": 12,
     "metadata": {},
     "output_type": "execute_result"
    }
   ],
   "source": [
    "relu_derivative_batch(weight_matrix)"
   ]
  },
  {
   "cell_type": "markdown",
   "metadata": {},
   "source": [
    "# Task 2. Dropout implementation\n",
    "\n",
    "### Dropout usage and implementation:\n",
    "    \n",
    "    \n",
    "  * Inverted dropout is used\n",
    "  * Forward and Backward pass\n",
    "  \n",
    "  \n",
    "  Dropout is used for regularization of Neural networks, the most used implementation is called __inverted dropout__ and is used for this implementation.\n",
    "  \n",
    "  __Inverted dropout__ differs from the original implemenetation on the fact that during training the activations of the neurons are scallled to account for the neurons that are shut off. Whereas traditional dropout requires the inputs to be scalled at test time.\n",
    "  \n",
    "  To apply dropput, the following is done:\n",
    "  \n",
    "  1. Creation of mask depending on a probability. Each layer has possibly 30,40 or 50% of its neurons shut down.\n",
    "  \n",
    "  2. Forward propagation of the signal using the created mask to shut off neurons.\n",
    "  \n",
    "  3. Backward propagation of the error unsing the same masks used during training.\n",
    "  \n",
    "  __*Note the dropout effect is applied  before the non-linear activation (ReLu)*__\n",
    "  \n",
    "  __*However there is an equivalency between: transform() -> Relu() -> Dropout()   AND   transform() > Dropout() > Relu()*__"
   ]
  },
  {
   "cell_type": "markdown",
   "metadata": {},
   "source": [
    "### Dropout forward pass"
   ]
  },
  {
   "cell_type": "code",
   "execution_count": 13,
   "metadata": {},
   "outputs": [
    {
     "data": {
      "text/plain": [
       "array([[False,  True,  True, False, False],\n",
       "       [False,  True,  True,  True, False],\n",
       "       [ True,  True, False,  True, False],\n",
       "       [False, False,  True, False, False],\n",
       "       [False,  True,  True,  True,  True]])"
      ]
     },
     "execution_count": 13,
     "metadata": {},
     "output_type": "execute_result"
    }
   ],
   "source": [
    "dropout_rate = 0.5\n",
    "\n",
    "# activation mask for traditional dropout (either on or off)\n",
    "activation_mask =(np.random.rand(5,5) < dropout_rate)\n",
    "activation_mask"
   ]
  },
  {
   "cell_type": "code",
   "execution_count": 14,
   "metadata": {},
   "outputs": [
    {
     "data": {
      "text/plain": [
       "array([[2., 2., 0., 0., 0.],\n",
       "       [2., 2., 0., 0., 0.],\n",
       "       [0., 0., 0., 0., 2.],\n",
       "       [2., 2., 2., 0., 0.],\n",
       "       [0., 0., 0., 2., 0.]])"
      ]
     },
     "execution_count": 14,
     "metadata": {},
     "output_type": "execute_result"
    }
   ],
   "source": [
    "# crate the mask for inverted dropout  (use of scalling for the activations)\n",
    "activation_mask = (np.random.rand(5,5) < dropout_rate) / dropout_rate\n",
    "activation_mask"
   ]
  },
  {
   "cell_type": "code",
   "execution_count": 15,
   "metadata": {},
   "outputs": [],
   "source": [
    "### implementing dropout during training\n",
    "\n",
    "###  The dropout mask is applied to the batch of samples before the non-linear activation\n",
    "###  However the eefect is simillar if the ReLu activation is used."
   ]
  },
  {
   "cell_type": "code",
   "execution_count": 16,
   "metadata": {},
   "outputs": [],
   "source": [
    "# let siganls_batch hold a batch of samples \n",
    "signals_batch = np.random.randn(5,5)"
   ]
  },
  {
   "cell_type": "code",
   "execution_count": 17,
   "metadata": {},
   "outputs": [
    {
     "data": {
      "text/plain": [
       "array([[ 1.52475348e+00,  3.60535849e-01, -6.10893022e-01,\n",
       "         9.30246033e-01,  3.56513015e-01],\n",
       "       [-9.52160595e-01,  1.51927786e-01,  6.34885971e-04,\n",
       "         3.35023228e-01,  3.74799388e-01],\n",
       "       [ 7.13816158e-01, -1.20081348e+00,  1.38116116e-03,\n",
       "        -9.21460027e-01,  4.96227866e-01],\n",
       "       [-1.33166667e+00, -2.19057049e+00, -4.36072065e-01,\n",
       "         2.54508722e+00,  1.15008128e+00],\n",
       "       [ 8.44454668e-02,  2.48624780e+00, -1.94355403e-01,\n",
       "        -1.86213348e-01,  8.53862857e-01]])"
      ]
     },
     "execution_count": 17,
     "metadata": {},
     "output_type": "execute_result"
    }
   ],
   "source": [
    "signals_batch"
   ]
  },
  {
   "cell_type": "code",
   "execution_count": 18,
   "metadata": {},
   "outputs": [],
   "source": [
    "# transformed batch by applyting matrix multiplication\n",
    "trans_batch = np.dot(signals_batch, weight_matrix)"
   ]
  },
  {
   "cell_type": "code",
   "execution_count": 19,
   "metadata": {},
   "outputs": [
    {
     "data": {
      "text/plain": [
       "array([[ 2.24180234,  2.20464234,  0.36053585,  0.71704886,  0.36053585],\n",
       "       [-0.42543342, -0.4645747 ,  0.15192779,  0.52672717,  0.15192779],\n",
       "       [ 0.00923054, -1.40707619, -1.20081348, -0.70458561, -1.20081348],\n",
       "       [-2.37215588, -1.413222  , -2.19057049, -1.04048921, -2.19057049],\n",
       "       [ 3.42455612,  2.19012451,  2.4862478 ,  3.34011065,  2.4862478 ]])"
      ]
     },
     "execution_count": 19,
     "metadata": {},
     "output_type": "execute_result"
    }
   ],
   "source": [
    "trans_batch"
   ]
  },
  {
   "cell_type": "code",
   "execution_count": 20,
   "metadata": {},
   "outputs": [
    {
     "data": {
      "text/plain": [
       "array([[ 4.48360468,  4.40928467,  0.        ,  0.        ,  0.        ],\n",
       "       [-0.85086684, -0.92914939,  0.        ,  0.        ,  0.        ],\n",
       "       [ 0.        , -0.        , -0.        , -0.        , -2.40162696],\n",
       "       [-4.74431176, -2.82644401, -4.38114098, -0.        , -0.        ],\n",
       "       [ 0.        ,  0.        ,  0.        ,  6.6802213 ,  0.        ]])"
      ]
     },
     "execution_count": 20,
     "metadata": {},
     "output_type": "execute_result"
    }
   ],
   "source": [
    "#  applyting the activation mask \n",
    "output_batch = trans_batch * activation_mask #dropout 7\n",
    "output_batch"
   ]
  },
  {
   "cell_type": "code",
   "execution_count": 21,
   "metadata": {},
   "outputs": [
    {
     "data": {
      "text/plain": [
       "array([[4.48360468, 4.40928467, 0.        , 0.        , 0.        ],\n",
       "       [0.        , 0.        , 0.        , 0.        , 0.        ],\n",
       "       [0.        , 0.        , 0.        , 0.        , 0.        ],\n",
       "       [0.        , 0.        , 0.        , 0.        , 0.        ],\n",
       "       [0.        , 0.        , 0.        , 6.6802213 , 0.        ]])"
      ]
     },
     "execution_count": 21,
     "metadata": {},
     "output_type": "execute_result"
    }
   ],
   "source": [
    "# Applying the relu function on the batch after dropout\n",
    "output_batch_dropped = relu_activation_batch(output_batch)\n",
    "output_batch_dropped"
   ]
  },
  {
   "cell_type": "code",
   "execution_count": 22,
   "metadata": {},
   "outputs": [
    {
     "data": {
      "text/plain": [
       "array([[4.48360468, 4.40928467, 0.        , 0.        , 0.        ],\n",
       "       [0.        , 0.        , 0.        , 0.        , 0.        ],\n",
       "       [0.        , 0.        , 0.        , 0.        , 0.        ],\n",
       "       [0.        , 0.        , 0.        , 0.        , 0.        ],\n",
       "       [0.        , 0.        , 0.        , 6.6802213 , 0.        ]])"
      ]
     },
     "execution_count": 22,
     "metadata": {},
     "output_type": "execute_result"
    }
   ],
   "source": [
    "#\n",
    "# A different version is: 1) Transform   2) Apply Non-linearity(ReLu)   3) Apply Dropout\n",
    "#\n",
    "batch = relu_activation_batch(trans_batch)\n",
    "output_batch = batch * activation_mask\n",
    "\n",
    "output_batch"
   ]
  },
  {
   "cell_type": "markdown",
   "metadata": {},
   "source": [
    "# Task 3. Softmax Classifier \n",
    "\n",
    "\n",
    "* Softmax classifier \n",
    "    * Softmax function \n",
    "* Cross-entropy loss function \n",
    "* Cross loss at the output layer \n",
    "* Cross-entropy gradients through back-propagation \n",
    "\n",
    "* Numerical issues for calculating softmax and cross-entropy \n",
    "\n",
    "\n",
    "#### __The softmax function is defined as:__ ${\\displaystyle \\sigma (\\mathbf {z} )_{i}={\\frac {e^{z_{i}}}{\\sum _{j=1}^{K}e^{z_{j}}}}{\\text{ for }}i=1,\\dotsc ,K{\\text{ and }}\\mathbf {z} =(z_{1},\\dotsc ,z_{K})\\in \\mathbb {R} ^{K}}$\n",
    "\n",
    "#### The softmax function can be used when we need to present a probability distribution over a discrete variable with n possible values\n",
    "\n",
    "*However the softmax does suffer from numerical instabilities. These instabilities are called __\"overflow\"__ and __\"underflow\"__ problems, and must be dealt with when implementing the function in code*\n",
    "\n",
    "    More specifically:\n",
    "        * Underflow: This problem occurs when numbers extremely close to zero are rounded to zero. So a division by zero can occur in the code, which of course is undefined. (The denominator of the Softmax can become zero)\n",
    "        * Overflow:Overflow occurs when numbers with large magnitude are approximated as ∞ or −∞\n",
    "        \n",
    "__*REMEDY:__\n",
    "\n",
    "Both of these difficulties\n",
    "can be resolved by instead evaluating softmax(z) where z = x − maxi xi. Simple\n",
    "algebra shows that the value of the softmax function is not changed analytically by\n",
    "adding or subtracting a scalar from the input vector. Subtracting maxi xi results\n",
    "in the largest argument to exp being 0, which rules out the possibility of overflow. Likewise, at least one term in the denominator has a value of 1, which rules out\n",
    "the possibility of underflow in the denominator leading to a division by zero\n",
    "\n",
    "\n",
    "        \n",
    "        "
   ]
  },
  {
   "cell_type": "code",
   "execution_count": 23,
   "metadata": {},
   "outputs": [],
   "source": [
    "# The softmax function implemented in code "
   ]
  },
  {
   "cell_type": "code",
   "execution_count": 24,
   "metadata": {},
   "outputs": [],
   "source": [
    "def softmax_activation_batch(matrix):\n",
    "          \n",
    "    z = matrix - np.max(matrix, axis=-1, keepdims=True) #prevent overflow here, with this \n",
    "    numerator = np.exp(z)\n",
    "    denominator = np.sum(numerator,1)\n",
    "    denominator = denominator.reshape(matrix.shape[0],-1) # (number of samples, 1)\n",
    "        \n",
    "    probs = numerator/denominator\n",
    "        \n",
    "    return probs      "
   ]
  },
  {
   "cell_type": "code",
   "execution_count": 25,
   "metadata": {},
   "outputs": [
    {
     "data": {
      "text/plain": [
       "array([[0.50961842, 0.47311678, 0.00575493, 0.00575493, 0.00575493],\n",
       "       [0.2       , 0.2       , 0.2       , 0.2       , 0.2       ],\n",
       "       [0.2       , 0.2       , 0.2       , 0.2       , 0.2       ],\n",
       "       [0.2       , 0.2       , 0.2       , 0.2       , 0.2       ],\n",
       "       [0.00124923, 0.00124923, 0.00124923, 0.99500309, 0.00124923]])"
      ]
     },
     "execution_count": 25,
     "metadata": {},
     "output_type": "execute_result"
    }
   ],
   "source": [
    "results = softmax_activation_batch(output_batch)\n",
    "results "
   ]
  },
  {
   "cell_type": "code",
   "execution_count": 26,
   "metadata": {},
   "outputs": [],
   "source": [
    "# reviewing Softmax implementation "
   ]
  },
  {
   "cell_type": "code",
   "execution_count": 27,
   "metadata": {},
   "outputs": [
    {
     "data": {
      "text/plain": [
       "array([[1., 1., 1., 1., 1.],\n",
       "       [1., 1., 1., 1., 1.],\n",
       "       [1., 1., 1., 1., 1.],\n",
       "       [1., 1., 1., 1., 1.],\n",
       "       [1., 1., 1., 1., 1.]])"
      ]
     },
     "execution_count": 27,
     "metadata": {},
     "output_type": "execute_result"
    }
   ],
   "source": [
    "ones = np.ones((5,5))\n",
    "ones"
   ]
  },
  {
   "cell_type": "code",
   "execution_count": 28,
   "metadata": {
    "scrolled": true
   },
   "outputs": [
    {
     "data": {
      "text/plain": [
       "array([[0.2, 0.2, 0.2, 0.2, 0.2],\n",
       "       [0.2, 0.2, 0.2, 0.2, 0.2],\n",
       "       [0.2, 0.2, 0.2, 0.2, 0.2],\n",
       "       [0.2, 0.2, 0.2, 0.2, 0.2],\n",
       "       [0.2, 0.2, 0.2, 0.2, 0.2]])"
      ]
     },
     "execution_count": 28,
     "metadata": {},
     "output_type": "execute_result"
    }
   ],
   "source": [
    "softmax_activation_batch(ones) "
   ]
  },
  {
   "cell_type": "markdown",
   "metadata": {},
   "source": [
    "### The above approaches, paired with smart genertion of weights coupled with a moderate learning rate, provide much needed stability in the calculations"
   ]
  },
  {
   "cell_type": "markdown",
   "metadata": {},
   "source": [
    "## __Cross-Entropy loss function__"
   ]
  },
  {
   "cell_type": "markdown",
   "metadata": {},
   "source": [
    "### When training a Neural Network, we need to optimize for specific loss function(s). In classification tasks the most common optimization function used is the cross-entropy loss between the model output and the empirical distribution, defined by the training set, more specifically the one-hot-encoded vectors, that represent classes.\n",
    "\n",
    "### The general fromulation of the cross-entropy as covered in information theory, the cross entropy between two probability distributions $\\mathbf{p}$ and  $\\mathbf{q}$\n",
    "\n",
    "### $H(p,q) = -\\sum_{\\forall x} p(x) \\log(q(x))$\n",
    "\n",
    "\n",
    "\n",
    "### The Cross-entropy losss function between the output of a model Neural Network and the empirical distribution, for the supervised machine learning setting is defined as the following:\n",
    "\n",
    "### Since the vector p is a one-hot encoded vector the expression of the loss can be written as: \n",
    "\n",
    "   ### $L = - \\mathbf{p} \\cdot \\log(\\mathbf{\\hat{q}})$ where $\\hat{q}$  is the ouput of the model NN,  $\\mathbf{p}$ is the empirical distibution and $\\cdot$ is the dot product between the two vectors\n",
    "\n",
    "\n",
    "\n",
    "\n",
    "\n",
    "\n"
   ]
  },
  {
   "cell_type": "code",
   "execution_count": 29,
   "metadata": {},
   "outputs": [],
   "source": [
    "#Implementation\n",
    "def calculate_cost_batch(probs, labels):\n",
    "\n",
    "      losses = labels * np.log(probs+ 1e-3) # works against underflow\n",
    "      batch_loss = - losses.sum()\n",
    "      return batch_loss"
   ]
  },
  {
   "cell_type": "code",
   "execution_count": 30,
   "metadata": {},
   "outputs": [],
   "source": [
    "labels = [[1,0,0],[0,0,1],[0,1,0]]\n",
    "ground_truth_labels = np.array(labels)\n"
   ]
  },
  {
   "cell_type": "code",
   "execution_count": 31,
   "metadata": {},
   "outputs": [
    {
     "data": {
      "text/plain": [
       "array([[1, 0, 0],\n",
       "       [0, 0, 1],\n",
       "       [0, 1, 0]])"
      ]
     },
     "execution_count": 31,
     "metadata": {},
     "output_type": "execute_result"
    }
   ],
   "source": [
    "ground_truth_labels"
   ]
  },
  {
   "cell_type": "code",
   "execution_count": 32,
   "metadata": {},
   "outputs": [],
   "source": [
    "probs = [[0.258178,0.0444354,0.0635667],[0.171228,0.0846713,0.0736623],[0.179176,0.052993,0.0695325]]\n",
    "predictions = np.array(probs)\n"
   ]
  },
  {
   "cell_type": "code",
   "execution_count": 33,
   "metadata": {},
   "outputs": [
    {
     "data": {
      "text/plain": [
       "array([[0.258178 , 0.0444354, 0.0635667],\n",
       "       [0.171228 , 0.0846713, 0.0736623],\n",
       "       [0.179176 , 0.052993 , 0.0695325]])"
      ]
     },
     "execution_count": 33,
     "metadata": {},
     "output_type": "execute_result"
    }
   ],
   "source": [
    "predictions"
   ]
  },
  {
   "cell_type": "code",
   "execution_count": 34,
   "metadata": {},
   "outputs": [
    {
     "data": {
      "text/plain": [
       "array([[1, 0, 0],\n",
       "       [0, 0, 1],\n",
       "       [0, 1, 0]])"
      ]
     },
     "execution_count": 34,
     "metadata": {},
     "output_type": "execute_result"
    }
   ],
   "source": [
    "ground_truth_labels"
   ]
  },
  {
   "cell_type": "code",
   "execution_count": 35,
   "metadata": {},
   "outputs": [
    {
     "data": {
      "text/plain": [
       "6.863921064747794"
      ]
     },
     "execution_count": 35,
     "metadata": {},
     "output_type": "execute_result"
    }
   ],
   "source": [
    "calculate_cost_batch(predictions, ground_truth_labels)"
   ]
  },
  {
   "cell_type": "code",
   "execution_count": 36,
   "metadata": {},
   "outputs": [],
   "source": [
    " # per pair (probs,label) loss  "
   ]
  },
  {
   "cell_type": "code",
   "execution_count": 37,
   "metadata": {},
   "outputs": [],
   "source": [
    "def cross_entropy(probs_vector, label_vector):\n",
    "    \n",
    "    result = np.dot(probs_vector, label_vector)\n",
    "    \n",
    "    logged = np.log(result)\n",
    "    \n",
    "    return - logged\n",
    "    "
   ]
  },
  {
   "cell_type": "code",
   "execution_count": 38,
   "metadata": {},
   "outputs": [],
   "source": [
    "def calculate_cost_batch(probs, labels):\n",
    "\n",
    "      losses = labels * np.log(probs) # works against underflow\n",
    "\n",
    "      batch_loss = - losses.sum()\n",
    "\n",
    "      return batch_loss"
   ]
  },
  {
   "cell_type": "code",
   "execution_count": 39,
   "metadata": {
    "scrolled": false
   },
   "outputs": [
    {
     "data": {
      "text/plain": [
       "array([1, 0, 0])"
      ]
     },
     "execution_count": 39,
     "metadata": {},
     "output_type": "execute_result"
    }
   ],
   "source": [
    "ground_truth_labels[0]"
   ]
  },
  {
   "cell_type": "code",
   "execution_count": 40,
   "metadata": {},
   "outputs": [
    {
     "data": {
      "text/plain": [
       "array([0.258178 , 0.0444354, 0.0635667])"
      ]
     },
     "execution_count": 40,
     "metadata": {},
     "output_type": "execute_result"
    }
   ],
   "source": [
    "predictions[0]"
   ]
  },
  {
   "cell_type": "code",
   "execution_count": 41,
   "metadata": {},
   "outputs": [
    {
     "data": {
      "text/plain": [
       "1.3541060094670045"
      ]
     },
     "execution_count": 41,
     "metadata": {},
     "output_type": "execute_result"
    }
   ],
   "source": [
    "cross_entropy(predictions[0],ground_truth_labels[0])"
   ]
  },
  {
   "cell_type": "code",
   "execution_count": 42,
   "metadata": {
    "scrolled": true
   },
   "outputs": [
    {
     "data": {
      "text/plain": [
       "1.3541060094670045"
      ]
     },
     "execution_count": 42,
     "metadata": {},
     "output_type": "execute_result"
    }
   ],
   "source": [
    "calculate_cost_batch(predictions[0],ground_truth_labels[0])"
   ]
  },
  {
   "cell_type": "markdown",
   "metadata": {},
   "source": [
    "# Task 4. Implementing a fully connected NN \n",
    "\n",
    "1) Data pre-processing(Bespoke jupyter showing the processing)\n",
    "\n",
    "2) The Neural Network classes\n",
    "\n",
    "3) The results and presenting the numbers \n",
    "\n",
    "### The dataset can be found in this link: http://ufldl.stanford.edu/housenumbers/\n"
   ]
  },
  {
   "cell_type": "code",
   "execution_count": 2,
   "metadata": {},
   "outputs": [],
   "source": [
    "import numpy as np\n",
    "import pickle\n",
    "import matplotlib.pyplot as plt"
   ]
  },
  {
   "cell_type": "code",
   "execution_count": 3,
   "metadata": {},
   "outputs": [],
   "source": [
    "# Import the pre-processed dataset\n",
    "\n",
    "with open(\"Datasets/processed/pickled_shvt_full_data.pkl\", \"br\") as fh:\n",
    "    data = pickle.load(fh)\n",
    "    \n",
    "train_imgs = data[0].values\n",
    "test_imgs = data[1].values\n",
    "\n",
    "train_labels_one_hot = data[2].values\n",
    "test_labels_one_hot = data[3].values\n",
    "\n",
    "train_labels = data[4]\n",
    "test_labels = data[5]\n"
   ]
  },
  {
   "cell_type": "code",
   "execution_count": 4,
   "metadata": {
    "scrolled": true
   },
   "outputs": [
    {
     "name": "stdout",
     "output_type": "stream",
     "text": [
      "(73257, 1024)\n",
      "(73257, 10)\n",
      "(73257, 1)\n"
     ]
    }
   ],
   "source": [
    "print(train_imgs.shape)\n",
    "print(train_labels_one_hot.shape)\n",
    "print(train_labels.shape)"
   ]
  },
  {
   "cell_type": "code",
   "execution_count": 5,
   "metadata": {},
   "outputs": [
    {
     "data": {
      "text/plain": [
       "array([[0.32058824, 0.32447059, 0.32447059, ..., 0.35164706, 0.35164706,\n",
       "        0.35552941],\n",
       "       [0.54576471, 0.54576471, 0.54576471, ..., 0.42929412, 0.46811765,\n",
       "        0.52635294],\n",
       "       [0.63505882, 0.64670588, 0.65447059, ..., 0.64670588, 0.64670588,\n",
       "        0.64670588],\n",
       "       ...,\n",
       "       [0.49917647, 0.50305882, 0.51082353, ..., 0.58458824, 0.59623529,\n",
       "        0.60788235],\n",
       "       [0.29341176, 0.28952941, 0.28176471, ..., 0.40211765, 0.37882353,\n",
       "        0.35164706],\n",
       "       [0.33611765, 0.32058824, 0.30117647, ..., 0.30117647, 0.30505882,\n",
       "        0.30505882]])"
      ]
     },
     "execution_count": 5,
     "metadata": {},
     "output_type": "execute_result"
    }
   ],
   "source": [
    "test_imgs"
   ]
  },
  {
   "cell_type": "markdown",
   "metadata": {},
   "source": [
    "### Simple NN class \n",
    "\n",
    "* Flexible architecture \n",
    "* Classfiication task \n",
    "* Cross-entropy optimization \n",
    "* Flexible batch size of samples"
   ]
  },
  {
   "cell_type": "code",
   "execution_count": 6,
   "metadata": {},
   "outputs": [
    {
     "data": {
      "text/plain": [
       "<mtrand.RandomState at 0x1861d4f1438>"
      ]
     },
     "execution_count": 6,
     "metadata": {},
     "output_type": "execute_result"
    }
   ],
   "source": [
    "np.random.seed(8)\n",
    "np.random.RandomState(8)\n"
   ]
  },
  {
   "cell_type": "code",
   "execution_count": 7,
   "metadata": {},
   "outputs": [],
   "source": [
    "\n",
    "class simple_nn:\n",
    "    \n",
    "    def linear_activation_batch(self,matrix):\n",
    "          return matrix\n",
    "\n",
    "      \n",
    "    def relu_activation_batch(self,matrix):\n",
    "          return np.maximum(0,matrix)\n",
    "    \n",
    "      \n",
    "    def relu_derivative_batch(self, matrix):\n",
    "          \n",
    "        matrix[matrix<=0] = 0\n",
    "        matrix[matrix>0] = 1\n",
    "        \n",
    "        return matrix\n",
    "  \n",
    "      \n",
    "\n",
    "      \n",
    "    def softmax_activation_batch(self, matrix):\n",
    "          \n",
    "        z = matrix - np.max(matrix, axis=-1, keepdims=True) #prevent numerical problems by shifting the distribution\n",
    "        numerator = np.exp(z)\n",
    "        denominator = np.sum(numerator,1)\n",
    "        denominator = denominator.reshape(matrix.shape[0],-1) \n",
    "        probs = numerator/denominator\n",
    "        \n",
    "        return probs      \n",
    "          \n",
    "\n",
    "\n",
    "\n",
    "    def __init__(self, architecture = [1024, 100, 10] , bias = False, activation = 'RELU',  \n",
    "                 learning_rate = 0.00015):\n",
    "        \n",
    "        self.bias = bias\n",
    "        \n",
    "        self.activation = activation\n",
    "        \n",
    "        self.architecture = architecture\n",
    "        \n",
    "        self.learning_rate = learning_rate\n",
    "                \n",
    "        self.initialize_weights() #initialize weights by taking into account the architecture\n",
    "        \n",
    "      \n",
    "        \n",
    "    def initialize_weights(self):\n",
    "            \n",
    "            self.weights = []\n",
    "            self.biases = []\n",
    "            \n",
    "            #initialize weights for arbitrary lenght NN \n",
    "            \n",
    "            for _ in range(len(self.architecture)-1):\n",
    "                \n",
    "                weight_matrix = np.random.normal(loc=0.0,scale=2/np.sqrt(self.architecture[_]+self.architecture[_+1]),\n",
    "                                                 size=(self.architecture[_],self.architecture[_+1]))\n",
    "                \n",
    "                self.weights.append(weight_matrix)\n",
    "                \n",
    "                #biases = np.random.normal(loc=0.0, scale=1,size=(self.architecture[i+1]))\n",
    "\n",
    "\n",
    "\n",
    "\n",
    "\n",
    "    def calculate_cost_batch(self, probs, labels):\n",
    "          \n",
    "          losses = labels * np.log(probs+ 1e-5) # works against underflow\n",
    "          \n",
    "          batch_loss = - losses.sum()\n",
    "          \n",
    "          return batch_loss\n",
    "\n",
    "\n",
    "        \n",
    "        \n",
    "    def train_on_batch(self, batch_samples, batch_labels):\n",
    "        \n",
    "          batch_probs, hidden_activations = self.forward_batch_propagation(batch_samples)\n",
    "                      \n",
    "          #calculate batch loss      \n",
    "          batch_loss = self.calculate_cost_batch( batch_probs, batch_labels )\n",
    "          self.batch_loss = batch_loss       \n",
    "                \n",
    "          ####update weights for the batch, first backpropagate the error, and then update each weight matrix\n",
    "                \n",
    "          self.update_weights_batch( batch_probs, hidden_activations, batch_labels, batch_samples )\n",
    "                \n",
    "          return True       \n",
    "                \n",
    "                \n",
    "                \n",
    "                \n",
    "                \n",
    "\n",
    "          \n",
    "    def forward_batch_propagation(self, batch_samples):\n",
    "        \n",
    "        # propagate the batch signal through the network, not using biases \n",
    "        input_batch = batch_samples\n",
    "        hidden_activations = [] # needed for gradient calculation\n",
    "        \n",
    "        for weight in self.weights:\n",
    "            \n",
    "            trans_batch = np.dot(input_batch, weight) #matrix multiplication, no biasses added\n",
    "            \n",
    "            if weight.shape[1] == 10: #if we are multipying the by the final weight matrix\n",
    "                #apply softmax activation to the batch\n",
    "                probabilities_batch = self.softmax_activation_batch(trans_batch)\n",
    "                break\n",
    "                \n",
    "                \n",
    "            elif self.activation == 'RELU':   \n",
    "                \n",
    "                output_batch = self.relu_activation_batch(trans_batch)\n",
    "                hidden_activations.append(output_batch)\n",
    "                \n",
    "            elif self.activation == 'LINEAR':\n",
    "                \n",
    "                output_batch = self.linear_activation_batch(trans_batch)\n",
    "                hidden_activations.append(output_batch)\n",
    "\n",
    "                \n",
    "            input_batch = output_batch\n",
    "                \n",
    "            \n",
    "        #logits_batch = np.dot(batch_samples, self.weights)\n",
    "        \n",
    "        #probabilities_batch = self.softmax_activation_batch(logits_batch)\n",
    "        \n",
    "        #print('Probs ',probabilities)\n",
    "        \n",
    "        #print (' \\n Probs sum', probabilities.sum() )\n",
    "        \n",
    "        return probabilities_batch, hidden_activations\n",
    "                  \n",
    "        \n",
    "  \n",
    "      \n",
    "     # back-propagation and update of the weights of the Neural Network \n",
    "     #\n",
    "     # back-propagation of loss from the ouput layer using the Transpose of the weights \n",
    "     \n",
    "     #\n",
    "     # update of the weights using the hidden activation of each layer \n",
    "     #\n",
    "     \n",
    "     \n",
    "    def update_weights_batch(self, batch_probs, hidden_activations, batch_labels, batch_samples) :\n",
    "          \n",
    "          hidden_activations.reverse()\n",
    "          \n",
    "          output_layer_error = batch_probs - batch_labels # error to propagate \n",
    "          \n",
    "          weights_list = list(self.weights)\n",
    "          weights_list.reverse()\n",
    "          \n",
    "          \n",
    "          # back-propagation of the error along with the derivative of the activation function (relu)\n",
    "          # the errors include the the derivatives of the activation functions\n",
    "          \n",
    "          layer_errors = []  # reverse this if needed\n",
    "          \n",
    "          layer_errors.append(output_layer_error.T)\n",
    "         \n",
    "          \n",
    "          error_l = output_layer_error\n",
    "          \n",
    "          # for an NN with 2 hidden layers, 2 back-propagation methods will be run\n",
    "          \n",
    "          # add clause for linear and sigmoid derivative apropriatly.\n",
    "          \n",
    "          # back-prop of the eror to every layer in the network \n",
    "          for i in range(len(weights_list)-1):\n",
    "                \n",
    "                error_term = np.dot(weights_list[i],error_l.T)\n",
    "                \n",
    "                derivative_term = self.relu_derivative_batch(hidden_activations[i].T)\n",
    "                \n",
    "                #element-wise multiplication for the full error expression\n",
    "                error_l_minus = error_term * derivative_term\n",
    "                \n",
    "                layer_errors.append(error_l_minus)\n",
    "                \n",
    "                error_l = error_l_minus.T\n",
    "                \n",
    "                \n",
    "          # layer errors created here. \n",
    "          \n",
    "          # update weights here using the layer errors and the hidden activations \n",
    "          activations = list(hidden_activations)\n",
    "          activations.reverse()\n",
    "          \n",
    "          activations.insert(0,batch_samples)\n",
    "          activations.reverse()\n",
    "\n",
    "          #activations.append(batch_probs)\n",
    "          \n",
    "          # check for possible regularization here \n",
    "          #weights_list.reverse()\n",
    "          \n",
    "          for i in range(len(layer_errors)):\n",
    "                \n",
    "                #self.weights[i] or self.weights = reverse_weight_list\n",
    "                \n",
    "                weight_update = np.dot(layer_errors[i],activations[i])\n",
    "                \n",
    "                #check for l2 regularizer here... as an if__then clause \n",
    "                \n",
    "                weights_list[i] -= self.learning_rate * weight_update.T #take some of the gradient using learning rate\n",
    "                \n",
    "          \n",
    "          \n",
    "          #final update, update network parameters to new weights\n",
    "\n",
    "          weights_list.reverse()          \n",
    "          self.weights = weights_list\n",
    "\n",
    "      \n",
    "      \n",
    "      \n",
    "    def evaluate(self,data,labels):\n",
    "        \n",
    "        corrects, wrongs = 0, 0\n",
    "        \n",
    "        for i in range(len(data)):\n",
    "              \n",
    "            res = self.infer_sample(data[i])\n",
    "            #sumaaaaaaaaaaaa = res.sum()\n",
    "            res_max = res.argmax()\n",
    "            #ruin=labels[i]\n",
    "            \n",
    "            if res_max == labels[i]:\n",
    "                corrects += 1\n",
    "            else:\n",
    "                wrongs += 1\n",
    "        return corrects, wrongs    \n",
    "\n",
    "\n",
    "\n",
    "\n",
    "    def infer_sample(self,sample):\n",
    "        #use this function to get a sample prediction, after the network has been trained   \n",
    "        prediction = self.signal_propagation_test(sample)\n",
    "          \n",
    "        return prediction  \n",
    "  \n",
    "   \n",
    "    def signal_propagation_test(self,sample):\n",
    "          \n",
    "          # get a prediction-class, for a sample vector, forward propagation\n",
    "                    \n",
    "          trans_vector = sample\n",
    "          \n",
    "          for weight in self.weights:\n",
    "                \n",
    "                trans_vector = np.dot(trans_vector, weight) # matrix transformation \n",
    "                \n",
    "                trans_vector = self.relu_activation_batch(trans_vector) # relu activation, no bias added\n",
    "                \n",
    "          prediction = trans_vector \n",
    "          \n",
    "          return prediction\n",
    "                \n",
    "            \n",
    "            "
   ]
  },
  {
   "cell_type": "code",
   "execution_count": 8,
   "metadata": {},
   "outputs": [],
   "source": [
    "np.random.seed(8)\n",
    "np.random.RandomState(8)\n",
    "\n",
    "\n",
    "simple_nn1 = simple_nn( architecture = [1024,100,100,10], bias = False, activation = 'RELU',  learning_rate = 0.0001)\n"
   ]
  },
  {
   "cell_type": "code",
   "execution_count": 9,
   "metadata": {},
   "outputs": [
    {
     "name": "stdout",
     "output_type": "stream",
     "text": [
      "\n",
      "  Testing accuracy before TRAINING  0.07559926244622003 \n",
      "\n"
     ]
    }
   ],
   "source": [
    "### Test the network with no training \n",
    "corrects, wrongs = simple_nn1.evaluate(test_imgs, test_labels)\n",
    "print(\"\\n  Testing accuracy before TRAINING \", corrects / ( corrects + wrongs), '\\n')"
   ]
  },
  {
   "cell_type": "code",
   "execution_count": 10,
   "metadata": {},
   "outputs": [
    {
     "name": "stdout",
     "output_type": "stream",
     "text": [
      "\n",
      " Batch size 256\n",
      "_________________________________________________\n",
      "\n",
      " Number of batches per epoch 286.16015625\n",
      "_________________________________________________\n",
      "\n",
      " Rough number of iterations to perform: 14308\n",
      "_________________________________________________\n",
      "\n",
      " Number of epochs over the dataset to perform: 50\n",
      "_________________________________________________\n"
     ]
    }
   ],
   "source": [
    "# Mini-batch gradient descent \n",
    "\n",
    "batch_size = 256 #size of the mini-batch\n",
    "epochs = 50 \n",
    "simple_nn1_iteration_losses = [] #should be the same len aas the number of iterations\n",
    "simple_nn1_epoch_accuracies = []\n",
    "\n",
    "#Print training elements\n",
    "num_of_batches = train_imgs.shape[0] / batch_size\n",
    "num_of_iterations = round(epochs * num_of_batches)\n",
    "\n",
    "print ('\\n Batch size',batch_size )\n",
    "print('_________________________________________________')\n",
    "\n",
    "\n",
    "print ('\\n Number of batches per epoch',num_of_batches )\n",
    "print('_________________________________________________')\n",
    "\n",
    "print ('\\n Rough number of iterations to perform:',num_of_iterations )\n",
    "print('_________________________________________________')\n",
    "\n",
    "print ('\\n Number of epochs over the dataset to perform:',epochs )\n",
    "print('_________________________________________________')\n"
   ]
  },
  {
   "cell_type": "code",
   "execution_count": 11,
   "metadata": {
    "scrolled": true
   },
   "outputs": [
    {
     "name": "stdout",
     "output_type": "stream",
     "text": [
      "_________________________________________________\n",
      "\n",
      "Training accuracy after epoch  0.2544739751832589 \n",
      "\n",
      "Epochs completed 1 / 50 \n",
      "_________________________________________________\n",
      "\n",
      "Training accuracy after epoch  0.2818843250474357 \n",
      "\n",
      "Epochs completed 2 / 50 \n",
      "_________________________________________________\n",
      "\n",
      "Training accuracy after epoch  0.39911544289282935 \n",
      "\n",
      "Epochs completed 3 / 50 \n",
      "_________________________________________________\n",
      "\n",
      "Training accuracy after epoch  0.4265530939022892 \n",
      "\n",
      "Epochs completed 4 / 50 \n",
      "_________________________________________________\n",
      "\n",
      "Training accuracy after epoch  0.46794163015138485 \n",
      "\n",
      "Epochs completed 5 / 50 \n",
      "_________________________________________________\n",
      "\n",
      "Training accuracy after epoch  0.49077903818065166 \n",
      "\n",
      "Epochs completed 6 / 50 \n",
      "_________________________________________________\n",
      "\n",
      "Training accuracy after epoch  0.5183122431986021 \n",
      "\n",
      "Epochs completed 7 / 50 \n",
      "_________________________________________________\n",
      "\n",
      "Training accuracy after epoch  0.5256152995618166 \n",
      "\n",
      "Epochs completed 8 / 50 \n",
      "_________________________________________________\n",
      "\n",
      "Training accuracy after epoch  0.5380782723835265 \n",
      "\n",
      "Epochs completed 9 / 50 \n",
      "_________________________________________________\n",
      "\n",
      "Training accuracy after epoch  0.5346383280778628 \n",
      "\n",
      "Epochs completed 10 / 50 \n",
      "_________________________________________________\n",
      "\n",
      "Training accuracy after epoch  0.5318536112589923 \n",
      "\n",
      "Epochs completed 11 / 50 \n",
      "_________________________________________________\n",
      "\n",
      "Training accuracy after epoch  0.5444121380891929 \n",
      "\n",
      "Epochs completed 12 / 50 \n",
      "_________________________________________________\n",
      "\n",
      "Training accuracy after epoch  0.5375049483325826 \n",
      "\n",
      "Epochs completed 13 / 50 \n",
      "_________________________________________________\n",
      "\n",
      "Training accuracy after epoch  0.556438292586374 \n",
      "\n",
      "Epochs completed 14 / 50 \n",
      "_________________________________________________\n",
      "\n",
      "Training accuracy after epoch  0.5510190152476896 \n",
      "\n",
      "Epochs completed 15 / 50 \n",
      "_________________________________________________\n",
      "\n",
      "Training accuracy after epoch  0.5720818488335586 \n",
      "\n",
      "Epochs completed 16 / 50 \n",
      "_________________________________________________\n",
      "\n",
      "Training accuracy after epoch  0.5519472541873132 \n",
      "\n",
      "Epochs completed 17 / 50 \n",
      "_________________________________________________\n",
      "\n",
      "Training accuracy after epoch  0.5731329429269558 \n",
      "\n",
      "Epochs completed 18 / 50 \n",
      "_________________________________________________\n",
      "\n",
      "Training accuracy after epoch  0.5777058847618658 \n",
      "\n",
      "Epochs completed 19 / 50 \n",
      "_________________________________________________\n",
      "\n",
      "Training accuracy after epoch  0.6002702813383022 \n",
      "\n",
      "Epochs completed 20 / 50 \n",
      "_________________________________________________\n",
      "\n",
      "Training accuracy after epoch  0.5753170345495994 \n",
      "\n",
      "Epochs completed 21 / 50 \n",
      "_________________________________________________\n",
      "\n",
      "Training accuracy after epoch  0.6067133516251006 \n",
      "\n",
      "Epochs completed 22 / 50 \n",
      "_________________________________________________\n",
      "\n",
      "Training accuracy after epoch  0.5952059188882973 \n",
      "\n",
      "Epochs completed 23 / 50 \n",
      "_________________________________________________\n",
      "\n",
      "Training accuracy after epoch  0.6058670161213263 \n",
      "\n",
      "Epochs completed 24 / 50 \n",
      "_________________________________________________\n",
      "\n",
      "Training accuracy after epoch  0.6018400971920772 \n",
      "\n",
      "Epochs completed 25 / 50 \n",
      "_________________________________________________\n",
      "\n",
      "Training accuracy after epoch  0.6147535389109573 \n",
      "\n",
      "Epochs completed 26 / 50 \n",
      "_________________________________________________\n",
      "\n",
      "Training accuracy after epoch  0.6071092182317048 \n",
      "\n",
      "Epochs completed 27 / 50 \n",
      "_________________________________________________\n",
      "\n",
      "Training accuracy after epoch  0.6024270718156627 \n",
      "\n",
      "Epochs completed 28 / 50 \n",
      "_________________________________________________\n",
      "\n",
      "Training accuracy after epoch  0.613907203407183 \n",
      "\n",
      "Epochs completed 29 / 50 \n",
      "_________________________________________________\n",
      "\n",
      "Training accuracy after epoch  0.6287453758685176 \n",
      "\n",
      "Epochs completed 30 / 50 \n",
      "_________________________________________________\n",
      "\n",
      "Training accuracy after epoch  0.6204731288477552 \n",
      "\n",
      "Epochs completed 31 / 50 \n",
      "_________________________________________________\n",
      "\n",
      "Training accuracy after epoch  0.6354751081807882 \n",
      "\n",
      "Epochs completed 32 / 50 \n",
      "_________________________________________________\n",
      "\n",
      "Training accuracy after epoch  0.6021813615081153 \n",
      "\n",
      "Epochs completed 33 / 50 \n",
      "_________________________________________________\n",
      "\n",
      "Training accuracy after epoch  0.6448667021581556 \n",
      "\n",
      "Epochs completed 34 / 50 \n",
      "_________________________________________________\n",
      "\n",
      "Training accuracy after epoch  0.6404712177675853 \n",
      "\n",
      "Epochs completed 35 / 50 \n",
      "_________________________________________________\n",
      "\n",
      "Training accuracy after epoch  0.6288818815949329 \n",
      "\n",
      "Epochs completed 36 / 50 \n",
      "_________________________________________________\n",
      "\n",
      "Training accuracy after epoch  0.6280082449458755 \n",
      "\n",
      "Epochs completed 37 / 50 \n",
      "_________________________________________________\n",
      "\n",
      "Training accuracy after epoch  0.6453308216279673 \n",
      "\n",
      "Epochs completed 38 / 50 \n",
      "_________________________________________________\n",
      "\n",
      "Training accuracy after epoch  0.6567427003562799 \n",
      "\n",
      "Epochs completed 39 / 50 \n",
      "_________________________________________________\n",
      "\n",
      "Training accuracy after epoch  0.6557189074081657 \n",
      "\n",
      "Epochs completed 40 / 50 \n",
      "_________________________________________________\n",
      "\n",
      "Training accuracy after epoch  0.6298374216798395 \n",
      "\n",
      "Epochs completed 41 / 50 \n",
      "_________________________________________________\n",
      "\n",
      "Training accuracy after epoch  0.6525519745553326 \n",
      "\n",
      "Epochs completed 42 / 50 \n",
      "_________________________________________________\n",
      "\n",
      "Training accuracy after epoch  0.6399797971524905 \n",
      "\n",
      "Epochs completed 43 / 50 \n",
      "_________________________________________________\n",
      "\n",
      "Training accuracy after epoch  0.6510094598468406 \n",
      "\n",
      "Epochs completed 44 / 50 \n",
      "_________________________________________________\n",
      "\n",
      "Training accuracy after epoch  0.6346560738222968 \n",
      "\n",
      "Epochs completed 45 / 50 \n",
      "_________________________________________________\n",
      "\n",
      "Training accuracy after epoch  0.6626533983100591 \n",
      "\n",
      "Epochs completed 46 / 50 \n",
      "_________________________________________________\n",
      "\n",
      "Training accuracy after epoch  0.6534665629223146 \n",
      "\n",
      "Epochs completed 47 / 50 \n",
      "_________________________________________________\n",
      "\n",
      "Training accuracy after epoch  0.6323491270458795 \n",
      "\n",
      "Epochs completed 48 / 50 \n",
      "_________________________________________________\n",
      "\n",
      "Training accuracy after epoch  0.6365535034194685 \n",
      "\n",
      "Epochs completed 49 / 50 \n",
      "_________________________________________________\n",
      "\n",
      "Training accuracy after epoch  0.6624895914383608 \n",
      "\n",
      "Epochs completed 50 / 50 \n"
     ]
    }
   ],
   "source": [
    "#\n",
    "# Training script \n",
    "# \n",
    "#for each epoch \n",
    "\n",
    "np.random.seed(8)\n",
    "np.random.RandomState(8)\n",
    "\n",
    "for epoch in range(epochs):\n",
    "\n",
    "            # cycle through all minibatches of data\n",
    "            n_samples = train_imgs.shape[0]\n",
    "            #shuffle entire dataset indices for proper mini-batch GD\n",
    "            indices = np.arange(train_imgs.shape[0])\n",
    "            np.random.shuffle(indices)\n",
    "            \n",
    "            for start in range(0, n_samples, batch_size):\n",
    "            \n",
    "                  end = min (start + batch_size, n_samples)\n",
    "                  batch_indices = indices[start:end]\n",
    "                  \n",
    "                  #train nn on mini-batch data\n",
    "                  simple_nn1.train_on_batch(train_imgs[batch_indices],train_labels_one_hot[batch_indices])\n",
    "                  \n",
    "                  #save loss on the mini-batch\n",
    "                  simple_nn1_iteration_losses.append(simple_nn1.batch_loss)\n",
    "\n",
    "            \n",
    "            #Evaluate training accuracy after each iteration\n",
    "            corrects, wrongs = simple_nn1.evaluate(train_imgs, train_labels) #this is the integer representation\n",
    "            accu = corrects / ( corrects + wrongs)\n",
    "            print('_________________________________________________\\n')\n",
    "            print(\"Training accuracy after epoch \", accu, '\\n')\n",
    "            simple_nn1_epoch_accuracies.append(accu)\n",
    "            \n",
    "            #epoch completed \n",
    "            print (\"Epochs completed {} / {} \".format(epoch+1,epochs))\n",
    "\n",
    "      "
   ]
  },
  {
   "cell_type": "code",
   "execution_count": 12,
   "metadata": {},
   "outputs": [
    {
     "data": {
      "image/png": "[encoded data removed]",
      "text/plain": [
       "<Figure size 432x288 with 1 Axes>"
      ]
     },
     "metadata": {
      "needs_background": "light"
     },
     "output_type": "display_data"
    }
   ],
   "source": [
    "plt.plot(range(len(simple_nn1_iteration_losses)), simple_nn1_iteration_losses)\n",
    "plt.ylabel('Cost')\n",
    "plt.xlabel('Iterations')\n",
    "#plt.savefig('loss.png', dpi=300)\n",
    "plt.show()\n"
   ]
  },
  {
   "cell_type": "code",
   "execution_count": 13,
   "metadata": {},
   "outputs": [
    {
     "data": {
      "image/png": "[encoded data removed]",
      "text/plain": [
       "<Figure size 432x288 with 1 Axes>"
      ]
     },
     "metadata": {
      "needs_background": "light"
     },
     "output_type": "display_data"
    }
   ],
   "source": [
    "plt.plot(range(epochs), simple_nn1_epoch_accuracies)\n",
    "plt.ylabel('Accuracy %')\n",
    "plt.xlabel('Epochs')\n",
    "#plt.savefig('loss.png', dpi=300)\n",
    "plt.show()"
   ]
  },
  {
   "cell_type": "code",
   "execution_count": 14,
   "metadata": {
    "scrolled": true
   },
   "outputs": [
    {
     "name": "stdout",
     "output_type": "stream",
     "text": [
      "\n",
      "  Testing accuracy after training  0.6284188690842041 \n",
      "\n"
     ]
    }
   ],
   "source": [
    "\n",
    "corrects, wrongs = simple_nn1.evaluate(test_imgs, test_labels)\n",
    "print(\"\\n  Testing accuracy after training \", corrects / ( corrects + wrongs), '\\n')"
   ]
  },
  {
   "cell_type": "markdown",
   "metadata": {},
   "source": [
    "### 2nd Simple Model [1024,200,200,10] to compare with a different architecture"
   ]
  },
  {
   "cell_type": "code",
   "execution_count": 15,
   "metadata": {},
   "outputs": [
    {
     "name": "stdout",
     "output_type": "stream",
     "text": [
      "\n",
      "  Testing accuracy before TRAINING  0.10029963122311002 \n",
      "\n"
     ]
    }
   ],
   "source": [
    "np.random.seed(8)\n",
    "np.random.RandomState(8)\n",
    "\n",
    "simple_nn2 = simple_nn( architecture = [1024,200,200,200,10], bias = False, activation = 'RELU',  learning_rate = 0.0001)\n",
    "\n",
    "### Test the network with no training \n",
    "corrects, wrongs = simple_nn2.evaluate(test_imgs, test_labels)\n",
    "print(\"\\n  Testing accuracy before TRAINING \", corrects / ( corrects + wrongs), '\\n')"
   ]
  },
  {
   "cell_type": "code",
   "execution_count": 16,
   "metadata": {
    "scrolled": true
   },
   "outputs": [
    {
     "name": "stdout",
     "output_type": "stream",
     "text": [
      "_________________________________________________\n",
      "\n",
      "Training accuracy after epoch  0.28703059093328964 \n",
      "\n",
      "Epochs completed 1 / 50 \n",
      "_________________________________________________\n",
      "\n",
      "Training accuracy after epoch  0.32962037757483925 \n",
      "\n",
      "Epochs completed 2 / 50 \n",
      "_________________________________________________\n",
      "\n",
      "Training accuracy after epoch  0.48257504402309676 \n",
      "\n",
      "Epochs completed 3 / 50 \n",
      "_________________________________________________\n",
      "\n",
      "Training accuracy after epoch  0.4893730291985749 \n",
      "\n",
      "Epochs completed 4 / 50 \n",
      "_________________________________________________\n",
      "\n",
      "Training accuracy after epoch  0.5517424955976903 \n",
      "\n",
      "Epochs completed 5 / 50 \n",
      "_________________________________________________\n",
      "\n",
      "Training accuracy after epoch  0.5672085944005351 \n",
      "\n",
      "Epochs completed 6 / 50 \n",
      "_________________________________________________\n",
      "\n",
      "Training accuracy after epoch  0.5827019943486629 \n",
      "\n",
      "Epochs completed 7 / 50 \n",
      "_________________________________________________\n",
      "\n",
      "Training accuracy after epoch  0.5799172775297924 \n",
      "\n",
      "Epochs completed 8 / 50 \n",
      "_________________________________________________\n",
      "\n",
      "Training accuracy after epoch  0.6034508647637769 \n",
      "\n",
      "Epochs completed 9 / 50 \n",
      "_________________________________________________\n",
      "\n",
      "Training accuracy after epoch  0.5903190138826324 \n",
      "\n",
      "Epochs completed 10 / 50 \n",
      "_________________________________________________\n",
      "\n",
      "Training accuracy after epoch  0.6043108508401928 \n",
      "\n",
      "Epochs completed 11 / 50 \n",
      "_________________________________________________\n",
      "\n",
      "Training accuracy after epoch  0.6422730933562663 \n",
      "\n",
      "Epochs completed 12 / 50 \n",
      "_________________________________________________\n",
      "\n",
      "Training accuracy after epoch  0.6401845557421134 \n",
      "\n",
      "Epochs completed 13 / 50 \n",
      "_________________________________________________\n",
      "\n",
      "Training accuracy after epoch  0.635079241574184 \n",
      "\n",
      "Epochs completed 14 / 50 \n",
      "_________________________________________________\n",
      "\n",
      "Training accuracy after epoch  0.6632403729336446 \n",
      "\n",
      "Epochs completed 15 / 50 \n",
      "_________________________________________________\n",
      "\n",
      "Training accuracy after epoch  0.6608242215760951 \n",
      "\n",
      "Epochs completed 16 / 50 \n",
      "_________________________________________________\n",
      "\n",
      "Training accuracy after epoch  0.6423822979373984 \n",
      "\n",
      "Epochs completed 17 / 50 \n",
      "_________________________________________________\n",
      "\n",
      "Training accuracy after epoch  0.663800046411947 \n",
      "\n",
      "Epochs completed 18 / 50 \n",
      "_________________________________________________\n",
      "\n",
      "Training accuracy after epoch  0.6468460351911762 \n",
      "\n",
      "Epochs completed 19 / 50 \n",
      "_________________________________________________\n",
      "\n",
      "Training accuracy after epoch  0.6526202274185402 \n",
      "\n",
      "Epochs completed 20 / 50 \n",
      "_________________________________________________\n",
      "\n",
      "Training accuracy after epoch  0.6539033812468433 \n",
      "\n",
      "Epochs completed 21 / 50 \n",
      "_________________________________________________\n",
      "\n",
      "Training accuracy after epoch  0.6631448189251539 \n",
      "\n",
      "Epochs completed 22 / 50 \n",
      "_________________________________________________\n",
      "\n",
      "Training accuracy after epoch  0.6687961559987442 \n",
      "\n",
      "Epochs completed 23 / 50 \n",
      "_________________________________________________\n",
      "\n",
      "Training accuracy after epoch  0.6799350232742264 \n",
      "\n",
      "Epochs completed 24 / 50 \n",
      "_________________________________________________\n",
      "\n",
      "Training accuracy after epoch  0.6798940715563018 \n",
      "\n",
      "Epochs completed 25 / 50 \n",
      "_________________________________________________\n",
      "\n",
      "Training accuracy after epoch  0.6720449922874264 \n",
      "\n",
      "Epochs completed 26 / 50 \n",
      "_________________________________________________\n",
      "\n",
      "Training accuracy after epoch  0.6593909114487353 \n",
      "\n",
      "Epochs completed 27 / 50 \n",
      "_________________________________________________\n",
      "\n",
      "Training accuracy after epoch  0.6616432559345865 \n",
      "\n",
      "Epochs completed 28 / 50 \n",
      "_________________________________________________\n",
      "\n",
      "Training accuracy after epoch  0.6834841721610222 \n",
      "\n",
      "Epochs completed 29 / 50 \n",
      "_________________________________________________\n",
      "\n",
      "Training accuracy after epoch  0.6829927515459273 \n",
      "\n",
      "Epochs completed 30 / 50 \n",
      "_________________________________________________\n",
      "\n",
      "Training accuracy after epoch  0.678228701694036 \n",
      "\n",
      "Epochs completed 31 / 50 \n",
      "_________________________________________________\n",
      "\n",
      "Training accuracy after epoch  0.6811772253846049 \n",
      "\n",
      "Epochs completed 32 / 50 \n",
      "_________________________________________________\n",
      "\n",
      "Training accuracy after epoch  0.6941725705393341 \n",
      "\n",
      "Epochs completed 33 / 50 \n",
      "_________________________________________________\n",
      "\n",
      "Training accuracy after epoch  0.6842759053742304 \n",
      "\n",
      "Epochs completed 34 / 50 \n",
      "_________________________________________________\n",
      "\n",
      "Training accuracy after epoch  0.7009842062874537 \n",
      "\n",
      "Epochs completed 35 / 50 \n",
      "_________________________________________________\n",
      "\n",
      "Training accuracy after epoch  0.6959061932648074 \n",
      "\n",
      "Epochs completed 36 / 50 \n",
      "_________________________________________________\n",
      "\n",
      "Training accuracy after epoch  0.6926846581214082 \n",
      "\n",
      "Epochs completed 37 / 50 \n",
      "_________________________________________________\n",
      "\n",
      "Training accuracy after epoch  0.7002197742195285 \n",
      "\n",
      "Epochs completed 38 / 50 \n",
      "_________________________________________________\n",
      "\n",
      "Training accuracy after epoch  0.709720572778028 \n",
      "\n",
      "Epochs completed 39 / 50 \n",
      "_________________________________________________\n",
      "\n",
      "Training accuracy after epoch  0.7077548903176488 \n",
      "\n",
      "Epochs completed 40 / 50 \n",
      "_________________________________________________\n",
      "\n",
      "Training accuracy after epoch  0.6969026850676386 \n",
      "\n",
      "Epochs completed 41 / 50 \n",
      "_________________________________________________\n",
      "\n",
      "Training accuracy after epoch  0.7107034140082177 \n",
      "\n",
      "Epochs completed 42 / 50 \n",
      "_________________________________________________\n",
      "\n",
      "Training accuracy after epoch  0.7038235253968904 \n",
      "\n",
      "Epochs completed 43 / 50 \n",
      "_________________________________________________\n",
      "\n",
      "Training accuracy after epoch  0.713092264220484 \n",
      "\n",
      "Epochs completed 44 / 50 \n",
      "_________________________________________________\n",
      "\n",
      "Training accuracy after epoch  0.7009569051421707 \n",
      "\n",
      "Epochs completed 45 / 50 \n",
      "_________________________________________________\n",
      "\n",
      "Training accuracy after epoch  0.7157677764582224 \n",
      "\n",
      "Epochs completed 46 / 50 \n",
      "_________________________________________________\n",
      "\n",
      "Training accuracy after epoch  0.7147849352280328 \n",
      "\n",
      "Epochs completed 47 / 50 \n",
      "_________________________________________________\n",
      "\n",
      "Training accuracy after epoch  0.6932989338902767 \n",
      "\n",
      "Epochs completed 48 / 50 \n",
      "_________________________________________________\n",
      "\n",
      "Training accuracy after epoch  0.7017349877827375 \n",
      "\n",
      "Epochs completed 49 / 50 \n",
      "_________________________________________________\n",
      "\n",
      "Training accuracy after epoch  0.7171874360129408 \n",
      "\n",
      "Epochs completed 50 / 50 \n"
     ]
    }
   ],
   "source": [
    "simple_nn2_iteration_losses = [] #should be the same len aas the number of iterations\n",
    "simple_nn2_epoch_accuracies = []\n",
    "\n",
    "np.random.seed(8)\n",
    "np.random.RandomState(8)\n",
    "\n",
    "for epoch in range(epochs):\n",
    "\n",
    "            n_samples = train_imgs.shape[0]\n",
    "            indices = np.arange(train_imgs.shape[0])\n",
    "            np.random.shuffle(indices)\n",
    "            \n",
    "            for start in range(0, n_samples, batch_size):\n",
    "            \n",
    "                  end = min (start + batch_size, n_samples)\n",
    "                  batch_indices = indices[start:end]\n",
    "                  \n",
    "                  simple_nn2.train_on_batch(train_imgs[batch_indices],train_labels_one_hot[batch_indices])\n",
    "                  \n",
    "                  simple_nn2_iteration_losses.append(simple_nn2.batch_loss)\n",
    "\n",
    "            \n",
    "            #Evaluate training accuracy after each iteration\n",
    "            corrects, wrongs = simple_nn2.evaluate(train_imgs, train_labels) #this is the integer representation\n",
    "            accu = corrects / ( corrects + wrongs)\n",
    "            print('_________________________________________________\\n')\n",
    "            print(\"Training accuracy after epoch \", accu, '\\n')\n",
    "            simple_nn2_epoch_accuracies.append(accu)\n",
    "            \n",
    "            #epoch completed \n",
    "            print (\"Epochs completed {} / {} \".format(epoch+1,epochs))\n"
   ]
  },
  {
   "cell_type": "code",
   "execution_count": 17,
   "metadata": {},
   "outputs": [
    {
     "data": {
      "image/png": "[encoded data removed]",
      "text/plain": [
       "<Figure size 432x288 with 1 Axes>"
      ]
     },
     "metadata": {
      "needs_background": "light"
     },
     "output_type": "display_data"
    }
   ],
   "source": [
    "plt.plot(range(len(simple_nn2_iteration_losses)), simple_nn2_iteration_losses)\n",
    "plt.ylabel('Cost')\n",
    "plt.xlabel('Iterations')\n",
    "#plt.savefig('loss.png', dpi=300)\n",
    "plt.show()"
   ]
  },
  {
   "cell_type": "code",
   "execution_count": 18,
   "metadata": {},
   "outputs": [
    {
     "data": {
      "image/png": "[encoded data removed]",
      "text/plain": [
       "<Figure size 432x288 with 1 Axes>"
      ]
     },
     "metadata": {
      "needs_background": "light"
     },
     "output_type": "display_data"
    }
   ],
   "source": [
    "plt.plot(range(epochs), simple_nn2_epoch_accuracies)\n",
    "plt.ylabel('Accuracy %')\n",
    "plt.xlabel('Epochs')\n",
    "#plt.savefig('loss.png', dpi=300)\n",
    "plt.show()"
   ]
  },
  {
   "cell_type": "code",
   "execution_count": 19,
   "metadata": {
    "scrolled": true
   },
   "outputs": [
    {
     "name": "stdout",
     "output_type": "stream",
     "text": [
      "\n",
      "  Testing accuracy after training  0.6871926859250154 \n",
      "\n"
     ]
    }
   ],
   "source": [
    "corrects, wrongs = simple_nn2.evaluate(test_imgs, test_labels)\n",
    "print(\"\\n  Testing accuracy after training \", corrects / ( corrects + wrongs), '\\n')"
   ]
  },
  {
   "cell_type": "markdown",
   "metadata": {},
   "source": [
    "### Comparative results \n",
    "\n",
    "### Model 1 vs Model 2. \n",
    "\n",
    "__The deeper model exhibits higher accuracy, which means that the model imroves with deeper architectures.__"
   ]
  },
  {
   "cell_type": "code",
   "execution_count": 20,
   "metadata": {},
   "outputs": [
    {
     "data": {
      "image/png": "[encoded data removed]",
      "text/plain": [
       "<Figure size 432x288 with 1 Axes>"
      ]
     },
     "metadata": {
      "needs_background": "light"
     },
     "output_type": "display_data"
    }
   ],
   "source": [
    "plt.plot(range(epochs), simple_nn2_epoch_accuracies, label = '2nd Model')\n",
    "plt.plot(range(epochs), simple_nn1_epoch_accuracies, label = '1st Model')\n",
    "plt.ylabel('Accuracy %')\n",
    "plt.xlabel('Epochs')\n",
    "plt.legend(loc=\"upper left\")\n",
    "plt.title('Simple NNs comparison: Accuracy')\n",
    "plt.savefig('Result metrics//simple_NNs_accuracy.png', dpi=300)\n",
    "plt.show()"
   ]
  },
  {
   "cell_type": "code",
   "execution_count": 21,
   "metadata": {},
   "outputs": [
    {
     "data": {
      "image/png": "[encoded data removed]",
      "text/plain": [
       "<Figure size 432x288 with 1 Axes>"
      ]
     },
     "metadata": {
      "needs_background": "light"
     },
     "output_type": "display_data"
    }
   ],
   "source": [
    "plt.plot(range(len(simple_nn2_iteration_losses)), simple_nn2_iteration_losses, label= '2nd Model')\n",
    "plt.plot(range(len(simple_nn1_iteration_losses)), simple_nn1_iteration_losses, label= '1st Model')\n",
    "plt.ylabel('Cost')\n",
    "plt.xlabel('Iterations')\n",
    "plt.title('Simple NNs comparison: Loss')\n",
    "plt.legend(loc=\"upper right\")\n",
    "plt.savefig('Result metrics//simple_NNs_loss.png', dpi=300)\n",
    "plt.show()"
   ]
  },
  {
   "cell_type": "markdown",
   "metadata": {},
   "source": [
    "### NN class with  L2 regularization\n",
    "\n",
    "* Optional parameter of L2 regularization\n",
    "* Change in the update_weights_batch() function\n",
    "* Change in the training script"
   ]
  },
  {
   "cell_type": "code",
   "execution_count": 22,
   "metadata": {},
   "outputs": [],
   "source": [
    "class regularized_nn:\n",
    "    \n",
    "      \n",
    "    def linear_activation_batch(self,matrix):\n",
    "          \n",
    "          return matrix\n",
    "\n",
    "    def relu_activation_batch(self,matrix):\n",
    "          \n",
    "          \n",
    "          return np.maximum(0,matrix)\n",
    "    \n",
    "    def relu_derivative_batch(self, matrix):\n",
    "          \n",
    "        matrix[matrix<=0] = 0\n",
    "        matrix[matrix>0] = 1\n",
    "        \n",
    "        return matrix\n",
    "  \n",
    "    def softmax_activation_batch(self, matrix):\n",
    "          \n",
    "        z = matrix - np.max(matrix, axis=-1, keepdims=True) #prevent overflow here, with this \n",
    "        numerator = np.exp(z)\n",
    "        denominator = np.sum(numerator,1)\n",
    "        denominator = denominator.reshape(matrix.shape[0],-1) # (number of samples, 1)\n",
    "        \n",
    "        probs = numerator/denominator\n",
    "        \n",
    "        return probs      \n",
    "          \n",
    "\n",
    "    def __init__(self, architecture = [1024, 100, 10] , bias = False, activation = 'RELU',  learning_rate = 0.0015, \n",
    "                 regularizer_l2 = False, L2_term = 0.0):\n",
    "        \n",
    "        self.bias = bias\n",
    "        \n",
    "        self.activation = activation\n",
    "        \n",
    "        self.architecture = architecture\n",
    "        \n",
    "        self.learning_rate = learning_rate\n",
    "        \n",
    "        self.regularizer_l2 = regularizer_l2\n",
    "        \n",
    "        self.L2_term = L2_term\n",
    "        \n",
    "        self.initialize_weights() #initialize weights by taking into account the architecture\n",
    "        \n",
    "      \n",
    "        \n",
    "    def initialize_weights(self):\n",
    "            \n",
    "            self.weights = []\n",
    "            self.biases = []\n",
    "            \n",
    "            #initialize weights for arbitrary lenght NN \n",
    "            \n",
    "            for _ in range(len(self.architecture)-1):\n",
    "                \n",
    "                weight_matrix = np.random.normal(loc=0.0,scale=2/np.sqrt(self.architecture[_]+self.architecture[_+1]),\n",
    "                                                 size=(self.architecture[_],self.architecture[_+1]))\n",
    "                \n",
    "                self.weights.append(weight_matrix)\n",
    "                \n",
    "                #biases = np.random.normal(loc=0.0, scale=1,size=(self.architecture[i+1]))\n",
    "\n",
    "  \n",
    "    def calculate_cost_batch(self, probs, labels):\n",
    "          \n",
    "          losses = labels * np.log(probs+ 1e-5) # works against underflow\n",
    "                    \n",
    "          batch_loss = - losses.sum()\n",
    "          \n",
    "          return batch_loss\n",
    "\n",
    "\n",
    "        \n",
    "        \n",
    "    def train_on_batch(self, batch_samples, batch_labels):\n",
    "        \n",
    "          batch_probs, hidden_activations = self.forward_batch_propagation(batch_samples)\n",
    "         \n",
    "          #calculate batch loss      \n",
    "          batch_loss = self.calculate_cost_batch( batch_probs, batch_labels )\n",
    "          self.batch_loss = batch_loss       \n",
    "                                \n",
    "          self.update_weights_batch( batch_probs, hidden_activations, batch_labels, batch_samples )\n",
    "               \n",
    "                \n",
    "          return True       \n",
    "                \n",
    "              \n",
    "          \n",
    "    def forward_batch_propagation(self, batch_samples):\n",
    "        \n",
    "        # propagate the batch signal through the network, not using biases \n",
    "        input_batch = batch_samples\n",
    "        hidden_activations = [] # needed for gradient calculation\n",
    "        \n",
    "        for weight in self.weights:\n",
    "            \n",
    "            trans_batch = np.dot(input_batch, weight) #matrix multiplication, no biasses added\n",
    "            \n",
    "            if weight.shape[1] == 10: #if we are multipying the by the final weight matrix\n",
    "                #apply softmax activation to the batch\n",
    "                probabilities_batch = self.softmax_activation_batch(trans_batch)\n",
    "                break\n",
    "                \n",
    "                \n",
    "            elif self.activation == 'RELU':   \n",
    "                \n",
    "                output_batch = self.relu_activation_batch(trans_batch)\n",
    "                hidden_activations.append(output_batch)\n",
    "\n",
    "            input_batch = output_batch\n",
    "        \n",
    "        return probabilities_batch, hidden_activations\n",
    "                  \n",
    "     \n",
    "    def update_weights_batch(self, batch_probs, hidden_activations, batch_labels, batch_samples) :\n",
    "          \n",
    "          hidden_activations.reverse()\n",
    "          \n",
    "          output_layer_error = batch_probs - batch_labels # error to propagate \n",
    "          \n",
    "          weights_list = list(self.weights)\n",
    "          weights_list.reverse()\n",
    "          \n",
    "          layer_errors = []  # reverse this if needed\n",
    "          \n",
    "          layer_errors.append(output_layer_error.T)\n",
    "         \n",
    "          \n",
    "          error_l = output_layer_error\n",
    "        \n",
    "          for i in range(len(weights_list)-1):\n",
    "                \n",
    "                error_term = np.dot(weights_list[i],error_l.T)\n",
    "                \n",
    "                if self.activation == 'RELU':\n",
    "                \n",
    "                      derivative_term = self.relu_derivative_batch(hidden_activations[i].T)\n",
    "                                            \n",
    "                \n",
    "                #element-wise multiplication for the full error expression\n",
    "                error_l_minus = error_term * derivative_term\n",
    "                \n",
    "                layer_errors.append(error_l_minus)\n",
    "                \n",
    "                error_l = error_l_minus.T\n",
    "                \n",
    "          activations = list(hidden_activations)\n",
    "          activations.reverse()\n",
    "          \n",
    "          activations.insert(0,batch_samples)\n",
    "          activations.reverse()\n",
    "\n",
    "          for i in range(len(layer_errors)):\n",
    "                \n",
    "                \n",
    "                weight_update = np.dot(layer_errors[i],activations[i])\n",
    "                \n",
    "                weight_update = weight_update +  (self.L2_term * weights_list[i].T)\n",
    "                \n",
    "                \n",
    "                weights_list[i] -= self.learning_rate * weight_update.T #take some of the gradient using learning rate\n",
    "                \n",
    "          weights_list.reverse()\n",
    "          \n",
    "          self.weights = weights_list\n",
    "\n",
    "      \n",
    "    def evaluate(self,data,labels):\n",
    "        corrects, wrongs = 0, 0  \n",
    "        for i in range(len(data)):\n",
    "              \n",
    "            res = self.infer_sample(data[i])\n",
    "            res_max = res.argmax()\n",
    "            if res_max == labels[i]:\n",
    "                corrects += 1\n",
    "            else:\n",
    "                wrongs += 1\n",
    "        return corrects, wrongs    \n",
    "\n",
    "    def infer_sample(self,sample):\n",
    "        #use this function to get a sample prediction, after the network has been trained   \n",
    "        prediction = self.signal_propagation_test(sample)\n",
    "          \n",
    "        return prediction  \n",
    "  \n",
    "   \n",
    "    def signal_propagation_test(self,sample):    \n",
    "          trans_vector = sample\n",
    "      \n",
    "          for weight in self.weights:\n",
    "                trans_vector = np.dot(trans_vector, weight) # matrix transformation \n",
    "                trans_vector = self.relu_activation_batch(trans_vector) # relu activation, no bias added  \n",
    "          prediction = trans_vector \n",
    "          \n",
    "          return prediction\n",
    "                \n",
    "            \n",
    "            "
   ]
  },
  {
   "cell_type": "code",
   "execution_count": 23,
   "metadata": {},
   "outputs": [],
   "source": [
    "np.random.seed(8)\n",
    "np.random.RandomState(8)\n",
    "\n",
    "reg_nn1 = regularized_nn(architecture = [1024,100,100,10], bias = False, activation = 'RELU',  \n",
    "              learning_rate = 0.0001, regularizer_l2 = True,  L2_term = 0.5)\n"
   ]
  },
  {
   "cell_type": "code",
   "execution_count": 24,
   "metadata": {
    "scrolled": true
   },
   "outputs": [
    {
     "name": "stdout",
     "output_type": "stream",
     "text": [
      "\n",
      "  Testing accuracy before TRAINING  0.07559926244622003 \n",
      "\n"
     ]
    }
   ],
   "source": [
    "### Test the network with no training \n",
    "corrects, wrongs = reg_nn1.evaluate(test_imgs, test_labels)\n",
    "print(\"\\n  Testing accuracy before TRAINING \", corrects / ( corrects + wrongs), '\\n')"
   ]
  },
  {
   "cell_type": "code",
   "execution_count": 25,
   "metadata": {},
   "outputs": [
    {
     "name": "stdout",
     "output_type": "stream",
     "text": [
      "\n",
      " Batch size 256\n",
      "_________________________________________________\n",
      "\n",
      " Number of batches per epoch 287\n",
      "_________________________________________________\n",
      "\n",
      " Number of iterations to perform: 14350\n",
      "_________________________________________________\n",
      "_________________________________________________\n",
      "\n"
     ]
    }
   ],
   "source": [
    "# Mini-batch gradient descent parameters\n",
    "\n",
    "batch_size = 256 #size of the mini-batch\n",
    "epochs = 50 \n",
    "reg_nn1_iteration_losses = [] #should be the same len aas the number of iterations\n",
    "reg_nn1_epoch_accuracies = []\n",
    "reg_nn1_epoch_costs = [] # should match the number of epochs set\n",
    "\n",
    "\n",
    "#Print training elements\n",
    "num_of_batches = round(train_imgs.shape[0] / batch_size) + 1\n",
    "num_of_iterations = epochs * num_of_batches\n",
    "\n",
    "print ('\\n Batch size',batch_size )\n",
    "print('_________________________________________________')\n",
    "\n",
    "\n",
    "print ('\\n Number of batches per epoch',num_of_batches )\n",
    "print('_________________________________________________')\n",
    "\n",
    "print ('\\n Number of iterations to perform:',num_of_iterations )\n",
    "print('_________________________________________________')\n",
    "print('_________________________________________________\\n')\n"
   ]
  },
  {
   "cell_type": "code",
   "execution_count": 26,
   "metadata": {
    "scrolled": true
   },
   "outputs": [
    {
     "name": "stdout",
     "output_type": "stream",
     "text": [
      "_________________________________________________\n",
      "\n",
      "Training accuracy after epoch  0.24811280833230953 \n",
      "\n",
      "Epochs completed 1 / 50 \n",
      "_________________________________________________\n",
      "\n",
      "Training accuracy after epoch  0.28849120220593255 \n",
      "\n",
      "Epochs completed 2 / 50 \n",
      "_________________________________________________\n",
      "\n",
      "Training accuracy after epoch  0.3940920321607491 \n",
      "\n",
      "Epochs completed 3 / 50 \n",
      "_________________________________________________\n",
      "\n",
      "Training accuracy after epoch  0.4084660851522721 \n",
      "\n",
      "Epochs completed 4 / 50 \n",
      "_________________________________________________\n",
      "\n",
      "Training accuracy after epoch  0.45081016148627434 \n",
      "\n",
      "Epochs completed 5 / 50 \n",
      "_________________________________________________\n",
      "\n",
      "Training accuracy after epoch  0.4788211365466781 \n",
      "\n",
      "Epochs completed 6 / 50 \n",
      "_________________________________________________\n",
      "\n",
      "Training accuracy after epoch  0.4923079023165022 \n",
      "\n",
      "Epochs completed 7 / 50 \n",
      "_________________________________________________\n",
      "\n",
      "Training accuracy after epoch  0.4911339530693313 \n",
      "\n",
      "Epochs completed 8 / 50 \n",
      "_________________________________________________\n",
      "\n",
      "Training accuracy after epoch  0.49284027464952157 \n",
      "\n",
      "Epochs completed 9 / 50 \n",
      "_________________________________________________\n",
      "\n",
      "Training accuracy after epoch  0.4875575030372524 \n",
      "\n",
      "Epochs completed 10 / 50 \n",
      "_________________________________________________\n",
      "\n",
      "Training accuracy after epoch  0.4659349959730811 \n",
      "\n",
      "Epochs completed 11 / 50 \n",
      "_________________________________________________\n",
      "\n",
      "Training accuracy after epoch  0.49726306018537475 \n",
      "\n",
      "Epochs completed 12 / 50 \n",
      "_________________________________________________\n",
      "\n",
      "Training accuracy after epoch  0.5012353768240577 \n",
      "\n",
      "Epochs completed 13 / 50 \n",
      "_________________________________________________\n",
      "\n",
      "Training accuracy after epoch  0.491884734564615 \n",
      "\n",
      "Epochs completed 14 / 50 \n",
      "_________________________________________________\n",
      "\n",
      "Training accuracy after epoch  0.5287412806967252 \n",
      "\n",
      "Epochs completed 15 / 50 \n",
      "_________________________________________________\n",
      "\n",
      "Training accuracy after epoch  0.562239785959021 \n",
      "\n",
      "Epochs completed 16 / 50 \n",
      "_________________________________________________\n",
      "\n",
      "Training accuracy after epoch  0.5239089779816263 \n",
      "\n",
      "Epochs completed 17 / 50 \n",
      "_________________________________________________\n",
      "\n",
      "Training accuracy after epoch  0.5213017186070956 \n",
      "\n",
      "Epochs completed 18 / 50 \n",
      "_________________________________________________\n",
      "\n",
      "Training accuracy after epoch  0.518257640908036 \n",
      "\n",
      "Epochs completed 19 / 50 \n",
      "_________________________________________________\n",
      "\n",
      "Training accuracy after epoch  0.5609566321307179 \n",
      "\n",
      "Epochs completed 20 / 50 \n",
      "_________________________________________________\n",
      "\n",
      "Training accuracy after epoch  0.5568751109109027 \n",
      "\n",
      "Epochs completed 21 / 50 \n",
      "_________________________________________________\n",
      "\n",
      "Training accuracy after epoch  0.567181293255252 \n",
      "\n",
      "Epochs completed 22 / 50 \n",
      "_________________________________________________\n",
      "\n",
      "Training accuracy after epoch  0.5328501030618235 \n",
      "\n",
      "Epochs completed 23 / 50 \n",
      "_________________________________________________\n",
      "\n",
      "Training accuracy after epoch  0.5412998075269257 \n",
      "\n",
      "Epochs completed 24 / 50 \n",
      "_________________________________________________\n",
      "\n",
      "Training accuracy after epoch  0.5691196745703482 \n",
      "\n",
      "Epochs completed 25 / 50 \n",
      "_________________________________________________\n",
      "\n",
      "Training accuracy after epoch  0.4925263114787665 \n",
      "\n",
      "Epochs completed 26 / 50 \n",
      "_________________________________________________\n",
      "\n",
      "Training accuracy after epoch  0.5257927570061565 \n",
      "\n",
      "Epochs completed 27 / 50 \n",
      "_________________________________________________\n",
      "\n",
      "Training accuracy after epoch  0.5453403770288163 \n",
      "\n",
      "Epochs completed 28 / 50 \n",
      "_________________________________________________\n",
      "\n",
      "Training accuracy after epoch  0.512715508415578 \n",
      "\n",
      "Epochs completed 29 / 50 \n",
      "_________________________________________________\n",
      "\n",
      "Training accuracy after epoch  0.5423645521929645 \n",
      "\n",
      "Epochs completed 30 / 50 \n",
      "_________________________________________________\n",
      "\n",
      "Training accuracy after epoch  0.5286730278335177 \n",
      "\n",
      "Epochs completed 31 / 50 \n",
      "_________________________________________________\n",
      "\n",
      "Training accuracy after epoch  0.5447670529778724 \n",
      "\n",
      "Epochs completed 32 / 50 \n",
      "_________________________________________________\n",
      "\n",
      "Training accuracy after epoch  0.5429515268165499 \n",
      "\n",
      "Epochs completed 33 / 50 \n",
      "_________________________________________________\n",
      "\n",
      "Training accuracy after epoch  0.5059175232401 \n",
      "\n",
      "Epochs completed 34 / 50 \n",
      "_________________________________________________\n",
      "\n",
      "Training accuracy after epoch  0.5300517356703114 \n",
      "\n",
      "Epochs completed 35 / 50 \n",
      "_________________________________________________\n",
      "\n",
      "Training accuracy after epoch  0.4768418035136574 \n",
      "\n",
      "Epochs completed 36 / 50 \n",
      "_________________________________________________\n",
      "\n",
      "Training accuracy after epoch  0.4855918205768732 \n",
      "\n",
      "Epochs completed 37 / 50 \n",
      "_________________________________________________\n",
      "\n",
      "Training accuracy after epoch  0.5378462126486206 \n",
      "\n",
      "Epochs completed 38 / 50 \n",
      "_________________________________________________\n",
      "\n",
      "Training accuracy after epoch  0.5044159602495325 \n",
      "\n",
      "Epochs completed 39 / 50 \n",
      "_________________________________________________\n",
      "\n",
      "Training accuracy after epoch  0.5354710130089957 \n",
      "\n",
      "Epochs completed 40 / 50 \n",
      "_________________________________________________\n",
      "\n",
      "Training accuracy after epoch  0.42286743928907816 \n",
      "\n",
      "Epochs completed 41 / 50 \n",
      "_________________________________________________\n",
      "\n",
      "Training accuracy after epoch  0.5085247826146306 \n",
      "\n",
      "Epochs completed 42 / 50 \n",
      "_________________________________________________\n",
      "\n",
      "Training accuracy after epoch  0.5085657343325553 \n",
      "\n",
      "Epochs completed 43 / 50 \n",
      "_________________________________________________\n",
      "\n",
      "Training accuracy after epoch  0.4717637904910111 \n",
      "\n",
      "Epochs completed 44 / 50 \n",
      "_________________________________________________\n",
      "\n",
      "Training accuracy after epoch  0.4435071051230599 \n",
      "\n",
      "Epochs completed 45 / 50 \n",
      "_________________________________________________\n",
      "\n",
      "Training accuracy after epoch  0.47943541231554665 \n",
      "\n",
      "Epochs completed 46 / 50 \n",
      "_________________________________________________\n",
      "\n",
      "Training accuracy after epoch  0.36631311683525125 \n",
      "\n",
      "Epochs completed 47 / 50 \n",
      "_________________________________________________\n",
      "\n",
      "Training accuracy after epoch  0.47314249832780486 \n",
      "\n",
      "Epochs completed 48 / 50 \n",
      "_________________________________________________\n",
      "\n",
      "Training accuracy after epoch  0.4057769223418922 \n",
      "\n",
      "Epochs completed 49 / 50 \n",
      "_________________________________________________\n",
      "\n",
      "Training accuracy after epoch  0.42883273953342343 \n",
      "\n",
      "Epochs completed 50 / 50 \n"
     ]
    }
   ],
   "source": [
    "## Training script \n",
    "np.random.seed(8)\n",
    "np.random.RandomState(8)\n",
    "\n",
    "for epoch in range(epochs):\n",
    "\n",
    "            # cycle through all minibatches of data\n",
    "            n_samples = train_imgs.shape[0]\n",
    "            #shuffle entire dataset indices for proper mini-batch GD\n",
    "            indices = np.arange(train_imgs.shape[0])\n",
    "            np.random.shuffle(indices)\n",
    "            \n",
    "            for start in range(0, n_samples, batch_size):\n",
    "            \n",
    "                  end = min (start + batch_size, n_samples)\n",
    "                  batch_indices = indices[start:end]\n",
    "                  \n",
    "                  #train nn on mini-batch data\n",
    "                  reg_nn1.train_on_batch(train_imgs[batch_indices],train_labels_one_hot[batch_indices])\n",
    "                  \n",
    "                  #get mnin-batch cross-entropy loss term \n",
    "                  cel = reg_nn1.batch_loss\n",
    "                  \n",
    "                  #create l2 term for loss calculation\n",
    "                  #l2_cost = (nn.L2_term / 2) * np.sum(np.square(nn.weights))\n",
    "                  \n",
    "                  weight_squared_sums = [np.sum(np.square(weight_matrix)) for weight_matrix in reg_nn1.weights]\n",
    "                  \n",
    "                  l2_cost = (reg_nn1.L2_term / 2) * np.array(weight_squared_sums).sum()\n",
    "            \n",
    "                  overall_cost = cel + l2_cost                       \n",
    "                  \n",
    "                  #save loss on the mini-batch\n",
    "                  reg_nn1_iteration_losses.append(overall_cost)\n",
    "                  \n",
    "            epoch_loss = reg_nn1_iteration_losses[-num_of_batches:] # GET THE LAST X ITERTIONS THAT MAKE UP THE EPOCH \n",
    "            reg_nn1_epoch_costs.append(np.array(epoch_loss).sum())\n",
    "\n",
    "            \n",
    "            #Evaluate training accuracy after each iteration\n",
    "            corrects, wrongs = reg_nn1.evaluate(train_imgs, train_labels) #this is the integer representation\n",
    "            accu = corrects / ( corrects + wrongs)\n",
    "            print('_________________________________________________\\n')\n",
    "            print(\"Training accuracy after epoch \", accu, '\\n')\n",
    "            reg_nn1_epoch_accuracies.append(accu)\n",
    "            \n",
    "            #epoch completed \n",
    "            print (\"Epochs completed {} / {} \".format(epoch+1,epochs))\n",
    "\n",
    "      \n"
   ]
  },
  {
   "cell_type": "code",
   "execution_count": 27,
   "metadata": {},
   "outputs": [
    {
     "data": {
      "image/png": "[encoded data removed]",
      "text/plain": [
       "<Figure size 432x288 with 1 Axes>"
      ]
     },
     "metadata": {
      "needs_background": "light"
     },
     "output_type": "display_data"
    },
    {
     "data": {
      "image/png": "[encoded data removed]",
      "text/plain": [
       "<Figure size 432x288 with 1 Axes>"
      ]
     },
     "metadata": {
      "needs_background": "light"
     },
     "output_type": "display_data"
    },
    {
     "data": {
      "image/png": "[encoded data removed]",
      "text/plain": [
       "<Figure size 432x288 with 1 Axes>"
      ]
     },
     "metadata": {
      "needs_background": "light"
     },
     "output_type": "display_data"
    }
   ],
   "source": [
    "plt.plot(range(len(reg_nn1_iteration_losses)), reg_nn1_iteration_losses)\n",
    "plt.ylabel('Cost')\n",
    "plt.xlabel('Iterations')\n",
    "#plt.savefig('loss.png', dpi=300)\n",
    "plt.show()\n",
    "\n",
    "\n",
    "plt.plot(range(epochs), reg_nn1_epoch_accuracies)\n",
    "plt.ylabel('Accuracy %')\n",
    "plt.xlabel('Epochs')\n",
    "#plt.savefig('loss.png', dpi=300)\n",
    "plt.show()\n",
    "\n",
    "\n",
    "plt.plot(range(epochs), reg_nn1_epoch_costs)\n",
    "plt.ylabel('Cost')\n",
    "plt.xlabel('Epochs')\n",
    "#plt.savefig('loss.png', dpi=300)\n",
    "plt.show()\n",
    "\n"
   ]
  },
  {
   "cell_type": "code",
   "execution_count": 28,
   "metadata": {},
   "outputs": [
    {
     "name": "stdout",
     "output_type": "stream",
     "text": [
      "\n",
      "  Testing accuracy after training  0.40738322065150584 \n",
      "\n"
     ]
    }
   ],
   "source": [
    "corrects, wrongs = reg_nn1.evaluate(test_imgs, test_labels)\n",
    "print(\"\\n  Testing accuracy after training \", corrects / ( corrects + wrongs), '\\n')\n"
   ]
  },
  {
   "cell_type": "markdown",
   "metadata": {},
   "source": [
    "### 2nd Regularized Model "
   ]
  },
  {
   "cell_type": "code",
   "execution_count": 29,
   "metadata": {},
   "outputs": [],
   "source": [
    "np.random.seed(8)\n",
    "np.random.RandomState(8)\n",
    "\n",
    "reg_nn2 = regularized_nn(architecture = [1024,100,100,10], bias = False, activation = 'RELU',  \n",
    "              learning_rate = 0.0001, regularizer_l2 = True,  L2_term = 0.1)"
   ]
  },
  {
   "cell_type": "code",
   "execution_count": 30,
   "metadata": {},
   "outputs": [
    {
     "name": "stdout",
     "output_type": "stream",
     "text": [
      "\n",
      "  Testing accuracy before TRAINING  0.07559926244622003 \n",
      "\n"
     ]
    }
   ],
   "source": [
    "### Test the network with no training \n",
    "corrects, wrongs = reg_nn2.evaluate(test_imgs, test_labels)\n",
    "print(\"\\n  Testing accuracy before TRAINING \", corrects / ( corrects + wrongs), '\\n')"
   ]
  },
  {
   "cell_type": "code",
   "execution_count": 31,
   "metadata": {},
   "outputs": [],
   "source": [
    "reg_nn2_iteration_losses = [] #should be the same len aas the number of iterations\n",
    "reg_nn2_epoch_accuracies = []\n",
    "reg_nn2_epoch_costs = [] # should match the number of epochs set"
   ]
  },
  {
   "cell_type": "code",
   "execution_count": 32,
   "metadata": {
    "scrolled": true
   },
   "outputs": [
    {
     "name": "stdout",
     "output_type": "stream",
     "text": [
      "_________________________________________________\n",
      "\n",
      "Training accuracy after epoch  0.25167560779174686 \n",
      "\n",
      "Epochs completed 1 / 50 \n",
      "_________________________________________________\n",
      "\n",
      "Training accuracy after epoch  0.2875902644115921 \n",
      "\n",
      "Epochs completed 2 / 50 \n",
      "_________________________________________________\n",
      "\n",
      "Training accuracy after epoch  0.39990717610603765 \n",
      "\n",
      "Epochs completed 3 / 50 \n",
      "_________________________________________________\n",
      "\n",
      "Training accuracy after epoch  0.4214068280164353 \n",
      "\n",
      "Epochs completed 4 / 50 \n",
      "_________________________________________________\n",
      "\n",
      "Training accuracy after epoch  0.4572122800551483 \n",
      "\n",
      "Epochs completed 5 / 50 \n",
      "_________________________________________________\n",
      "\n",
      "Training accuracy after epoch  0.4864381560806476 \n",
      "\n",
      "Epochs completed 6 / 50 \n",
      "_________________________________________________\n",
      "\n",
      "Training accuracy after epoch  0.5064908472910439 \n",
      "\n",
      "Epochs completed 7 / 50 \n",
      "_________________________________________________\n",
      "\n",
      "Training accuracy after epoch  0.48638355379008147 \n",
      "\n",
      "Epochs completed 8 / 50 \n",
      "_________________________________________________\n",
      "\n",
      "Training accuracy after epoch  0.4960754603655623 \n",
      "\n",
      "Epochs completed 9 / 50 \n",
      "_________________________________________________\n",
      "\n",
      "Training accuracy after epoch  0.4707399975428969 \n",
      "\n",
      "Epochs completed 10 / 50 \n",
      "_________________________________________________\n",
      "\n",
      "Training accuracy after epoch  0.478425269940074 \n",
      "\n",
      "Epochs completed 11 / 50 \n",
      "_________________________________________________\n",
      "\n",
      "Training accuracy after epoch  0.4983551059966966 \n",
      "\n",
      "Epochs completed 12 / 50 \n",
      "_________________________________________________\n",
      "\n",
      "Training accuracy after epoch  0.4698663608938395 \n",
      "\n",
      "Epochs completed 13 / 50 \n",
      "_________________________________________________\n",
      "\n",
      "Training accuracy after epoch  0.5027369398146252 \n",
      "\n",
      "Epochs completed 14 / 50 \n",
      "_________________________________________________\n",
      "\n",
      "Training accuracy after epoch  0.5156230803882222 \n",
      "\n",
      "Epochs completed 15 / 50 \n",
      "_________________________________________________\n",
      "\n",
      "Training accuracy after epoch  0.5400712559891887 \n",
      "\n",
      "Epochs completed 16 / 50 \n",
      "_________________________________________________\n",
      "\n",
      "Training accuracy after epoch  0.5220661506750208 \n",
      "\n",
      "Epochs completed 17 / 50 \n",
      "_________________________________________________\n",
      "\n",
      "Training accuracy after epoch  0.5500361740175 \n",
      "\n",
      "Epochs completed 18 / 50 \n",
      "_________________________________________________\n",
      "\n",
      "Training accuracy after epoch  0.5569160626288273 \n",
      "\n",
      "Epochs completed 19 / 50 \n",
      "_________________________________________________\n",
      "\n",
      "Training accuracy after epoch  0.562212484813738 \n",
      "\n",
      "Epochs completed 20 / 50 \n",
      "_________________________________________________\n",
      "\n",
      "Training accuracy after epoch  0.5687374585363856 \n",
      "\n",
      "Epochs completed 21 / 50 \n",
      "_________________________________________________\n",
      "\n",
      "Training accuracy after epoch  0.576354478070355 \n",
      "\n",
      "Epochs completed 22 / 50 \n",
      "_________________________________________________\n",
      "\n",
      "Training accuracy after epoch  0.5306523608665383 \n",
      "\n",
      "Epochs completed 23 / 50 \n",
      "_________________________________________________\n",
      "\n",
      "Training accuracy after epoch  0.5774738250269599 \n",
      "\n",
      "Epochs completed 24 / 50 \n",
      "_________________________________________________\n",
      "\n",
      "Training accuracy after epoch  0.5968303370326385 \n",
      "\n",
      "Epochs completed 25 / 50 \n",
      "_________________________________________________\n",
      "\n",
      "Training accuracy after epoch  0.5378598632212621 \n",
      "\n",
      "Epochs completed 26 / 50 \n",
      "_________________________________________________\n",
      "\n",
      "Training accuracy after epoch  0.6022086626533983 \n",
      "\n",
      "Epochs completed 27 / 50 \n",
      "_________________________________________________\n",
      "\n",
      "Training accuracy after epoch  0.5823743806052664 \n",
      "\n",
      "Epochs completed 28 / 50 \n",
      "_________________________________________________\n",
      "\n",
      "Training accuracy after epoch  0.6074504825477429 \n",
      "\n",
      "Epochs completed 29 / 50 \n",
      "_________________________________________________\n",
      "\n",
      "Training accuracy after epoch  0.6085834800769893 \n",
      "\n",
      "Epochs completed 30 / 50 \n",
      "_________________________________________________\n",
      "\n",
      "Training accuracy after epoch  0.6200636116685095 \n",
      "\n",
      "Epochs completed 31 / 50 \n",
      "_________________________________________________\n",
      "\n",
      "Training accuracy after epoch  0.6140983114241643 \n",
      "\n",
      "Epochs completed 32 / 50 \n",
      "_________________________________________________\n",
      "\n",
      "Training accuracy after epoch  0.5735424601062015 \n",
      "\n",
      "Epochs completed 33 / 50 \n",
      "_________________________________________________\n",
      "\n",
      "Training accuracy after epoch  0.6087472869486875 \n",
      "\n",
      "Epochs completed 34 / 50 \n",
      "_________________________________________________\n",
      "\n",
      "Training accuracy after epoch  0.6164052582005816 \n",
      "\n",
      "Epochs completed 35 / 50 \n",
      "_________________________________________________\n",
      "\n",
      "Training accuracy after epoch  0.5757675034467696 \n",
      "\n",
      "Epochs completed 36 / 50 \n",
      "_________________________________________________\n",
      "\n",
      "Training accuracy after epoch  0.602358818952455 \n",
      "\n",
      "Epochs completed 37 / 50 \n",
      "_________________________________________________\n",
      "\n",
      "Training accuracy after epoch  0.6071228688043463 \n",
      "\n",
      "Epochs completed 38 / 50 \n",
      "_________________________________________________\n",
      "\n",
      "Training accuracy after epoch  0.640252808605321 \n",
      "\n",
      "Epochs completed 39 / 50 \n",
      "_________________________________________________\n",
      "\n",
      "Training accuracy after epoch  0.6365535034194685 \n",
      "\n",
      "Epochs completed 40 / 50 \n",
      "_________________________________________________\n",
      "\n",
      "Training accuracy after epoch  0.6076006388467996 \n",
      "\n",
      "Epochs completed 41 / 50 \n",
      "_________________________________________________\n",
      "\n",
      "Training accuracy after epoch  0.6239403742987019 \n",
      "\n",
      "Epochs completed 42 / 50 \n",
      "_________________________________________________\n",
      "\n",
      "Training accuracy after epoch  0.6273120657411578 \n",
      "\n",
      "Epochs completed 43 / 50 \n",
      "_________________________________________________\n",
      "\n",
      "Training accuracy after epoch  0.6344786163779571 \n",
      "\n",
      "Epochs completed 44 / 50 \n",
      "_________________________________________________\n",
      "\n",
      "Training accuracy after epoch  0.6265476336732326 \n",
      "\n",
      "Epochs completed 45 / 50 \n",
      "_________________________________________________\n",
      "\n",
      "Training accuracy after epoch  0.6109723302892557 \n",
      "\n",
      "Epochs completed 46 / 50 \n",
      "_________________________________________________\n",
      "\n",
      "Training accuracy after epoch  0.6273530174590825 \n",
      "\n",
      "Epochs completed 47 / 50 \n",
      "_________________________________________________\n",
      "\n",
      "Training accuracy after epoch  0.6158728858675622 \n",
      "\n",
      "Epochs completed 48 / 50 \n",
      "_________________________________________________\n",
      "\n",
      "Training accuracy after epoch  0.6084742754958571 \n",
      "\n",
      "Epochs completed 49 / 50 \n",
      "_________________________________________________\n",
      "\n",
      "Training accuracy after epoch  0.6341510026345605 \n",
      "\n",
      "Epochs completed 50 / 50 \n"
     ]
    }
   ],
   "source": [
    "## Training script \n",
    "np.random.seed(8)\n",
    "np.random.RandomState(8)\n",
    "\n",
    "\n",
    "for epoch in range(epochs):\n",
    "\n",
    "            # cycle through all minibatches of data\n",
    "            n_samples = train_imgs.shape[0]\n",
    "            #shuffle entire dataset indices for proper mini-batch GD\n",
    "            indices = np.arange(train_imgs.shape[0])\n",
    "            np.random.shuffle(indices)\n",
    "            \n",
    "            for start in range(0, n_samples, batch_size):\n",
    "            \n",
    "                  end = min (start + batch_size, n_samples)\n",
    "                  batch_indices = indices[start:end]\n",
    "                  \n",
    "                  #train nn on mini-batch data\n",
    "                  reg_nn2.train_on_batch(train_imgs[batch_indices],train_labels_one_hot[batch_indices])\n",
    "                  \n",
    "                  #get mnin-batch cross-entropy loss term \n",
    "                  cel = reg_nn2.batch_loss\n",
    "                  \n",
    "                  #create l2 term for loss calculation\n",
    "                  #l2_cost = (nn.L2_term / 2) * np.sum(np.square(nn.weights))\n",
    "                  \n",
    "                  weight_squared_sums = [np.sum(np.square(weight_matrix)) for weight_matrix in reg_nn2.weights]\n",
    "                  \n",
    "                  l2_cost = (reg_nn2.L2_term / 2) * np.array(weight_squared_sums).sum()\n",
    "            \n",
    "                  overall_cost = cel + l2_cost                       \n",
    "                  \n",
    "                  #save loss on the mini-batch\n",
    "                  reg_nn2_iteration_losses.append(overall_cost)\n",
    "                  \n",
    "            epoch_loss = reg_nn2_iteration_losses[-num_of_batches:] # GET THE LAST X ITERTIONS THAT MAKE UP THE EPOCH \n",
    "            reg_nn2_epoch_costs.append(np.array(epoch_loss).sum())\n",
    "\n",
    "            \n",
    "            #Evaluate training accuracy after each iteration\n",
    "            corrects, wrongs = reg_nn2.evaluate(train_imgs, train_labels) #this is the integer representation\n",
    "            accu = corrects / ( corrects + wrongs)\n",
    "            print('_________________________________________________\\n')\n",
    "            print(\"Training accuracy after epoch \", accu, '\\n')\n",
    "            reg_nn2_epoch_accuracies.append(accu)\n",
    "            \n",
    "            #epoch completed \n",
    "            print (\"Epochs completed {} / {} \".format(epoch+1,epochs))"
   ]
  },
  {
   "cell_type": "code",
   "execution_count": 33,
   "metadata": {},
   "outputs": [
    {
     "data": {
      "image/png": "[encoded data removed]",
      "text/plain": [
       "<Figure size 432x288 with 1 Axes>"
      ]
     },
     "metadata": {
      "needs_background": "light"
     },
     "output_type": "display_data"
    },
    {
     "data": {
      "image/png": "[encoded data removed]",
      "text/plain": [
       "<Figure size 432x288 with 1 Axes>"
      ]
     },
     "metadata": {
      "needs_background": "light"
     },
     "output_type": "display_data"
    },
    {
     "data": {
      "image/png": "[encoded data removed]",
      "text/plain": [
       "<Figure size 432x288 with 1 Axes>"
      ]
     },
     "metadata": {
      "needs_background": "light"
     },
     "output_type": "display_data"
    }
   ],
   "source": [
    "plt.plot(range(len(reg_nn2_iteration_losses)), reg_nn2_iteration_losses)\n",
    "plt.ylabel('Cost')\n",
    "plt.xlabel('Iterations')\n",
    "#plt.savefig('loss.png', dpi=300)\n",
    "plt.show()\n",
    "\n",
    "\n",
    "plt.plot(range(epochs), reg_nn2_epoch_accuracies)\n",
    "plt.ylabel('Accuracy %')\n",
    "plt.xlabel('Epochs')\n",
    "#plt.savefig('loss.png', dpi=300)\n",
    "plt.show()\n",
    "\n",
    "\n",
    "plt.plot(range(epochs), reg_nn2_epoch_costs)\n",
    "plt.ylabel('Cost')\n",
    "plt.xlabel('Epochs')\n",
    "#plt.savefig('loss.png', dpi=300)\n",
    "plt.show()\n",
    "\n"
   ]
  },
  {
   "cell_type": "code",
   "execution_count": 34,
   "metadata": {},
   "outputs": [
    {
     "name": "stdout",
     "output_type": "stream",
     "text": [
      "\n",
      "  Testing accuracy after training  0.6035648432698217 \n",
      "\n"
     ]
    }
   ],
   "source": [
    "corrects, wrongs = reg_nn2.evaluate(test_imgs, test_labels)\n",
    "print(\"\\n  Testing accuracy after training \", corrects / ( corrects + wrongs), '\\n')"
   ]
  },
  {
   "cell_type": "markdown",
   "metadata": {},
   "source": [
    "### Models evaluation. \n",
    "\n",
    "\n",
    "### Reg Model_1 vs Reg Model_2"
   ]
  },
  {
   "cell_type": "code",
   "execution_count": 35,
   "metadata": {
    "scrolled": false
   },
   "outputs": [
    {
     "data": {
      "image/png": "[encoded data removed]",
      "text/plain": [
       "<Figure size 432x288 with 1 Axes>"
      ]
     },
     "metadata": {
      "needs_background": "light"
     },
     "output_type": "display_data"
    },
    {
     "data": {
      "image/png": "[encoded data removed]",
      "text/plain": [
       "<Figure size 432x288 with 1 Axes>"
      ]
     },
     "metadata": {
      "needs_background": "light"
     },
     "output_type": "display_data"
    },
    {
     "data": {
      "image/png": "[encoded data removed]",
      "text/plain": [
       "<Figure size 432x288 with 1 Axes>"
      ]
     },
     "metadata": {
      "needs_background": "light"
     },
     "output_type": "display_data"
    }
   ],
   "source": [
    "plt.plot(range(len(reg_nn2_iteration_losses)), reg_nn2_iteration_losses, label = '2nd Model')\n",
    "plt.plot(range(len(reg_nn1_iteration_losses)), reg_nn1_iteration_losses, label = '1st Model')\n",
    "plt.ylabel('Cost')\n",
    "plt.xlabel('Iterations')\n",
    "plt.legend(loc=\"upper right\")\n",
    "plt.title('Regularized NNs comparison: Loss')\n",
    "plt.savefig('Result metrics//Regularized_NNs_loss.png', dpi=300)\n",
    "plt.show()\n",
    "\n",
    "\n",
    "plt.plot(range(epochs), reg_nn2_epoch_accuracies, label = '2nd Model')\n",
    "plt.plot(range(epochs), reg_nn1_epoch_accuracies, label = '1st model')\n",
    "plt.ylabel('Accuracy %')\n",
    "plt.xlabel('Epochs')\n",
    "plt.legend(loc=\"upper left\")\n",
    "plt.title('Regularized NNs comparison: Accuracy')\n",
    "plt.savefig('Result metrics//Regularized_NNs_accuracy.png', dpi=300)\n",
    "plt.show()\n",
    "\n",
    "\n",
    "plt.plot(range(epochs), reg_nn2_epoch_costs, label = '2nd Model')\n",
    "plt.plot(range(epochs), reg_nn1_epoch_costs, label = '1st Model')\n",
    "plt.ylabel('Cost')\n",
    "plt.xlabel('Epochs')\n",
    "plt.legend(loc=\"upper right\")\n",
    "plt.title('Regularized NNs comparison: Loss')\n",
    "plt.savefig('Result metrics//Regularized_NNs_loss_epochs.png', dpi=300)\n",
    "plt.show()\n"
   ]
  },
  {
   "cell_type": "markdown",
   "metadata": {},
   "source": [
    "### It is evident that too high regularization parameter is detrimental to learning.\n",
    "### The Model performance in terms of both training and testing accuracy is significant."
   ]
  },
  {
   "cell_type": "markdown",
   "metadata": {},
   "source": [
    "### NN class with  Dropout regularization\n",
    "\n",
    "* Optional regularization\n",
    "* New feedforward method with Dropout \n",
    "* New backpropagation method with Dropout\n",
    "* Flexible Dropout rate method set (one setting for all hidden layers)\n",
    "* No Dropout is applied in the input Layer\n"
   ]
  },
  {
   "cell_type": "code",
   "execution_count": 36,
   "metadata": {},
   "outputs": [],
   "source": [
    "##\n",
    "## Implementaiton of Dropout NN class\n",
    "##\n",
    "class dropout_nn:\n",
    "    \n",
    "      \n",
    "    def linear_activation_batch(self,matrix):\n",
    "          \n",
    "          return matrix\n",
    "\n",
    "      \n",
    "    def relu_activation_batch(self,matrix):\n",
    "          \n",
    "          \n",
    "          return np.maximum(0,matrix)\n",
    "    \n",
    "      \n",
    "    def relu_derivative_batch(self, matrix):\n",
    "          \n",
    "        matrix[matrix<=0] = 0\n",
    "        matrix[matrix>0] = 1\n",
    "        \n",
    "        return matrix\n",
    "  \n",
    "      \n",
    "    def softmax_activation_batch(self, matrix):\n",
    "          \n",
    "        z = matrix - np.max(matrix, axis=-1, keepdims=True) #prevent overflow here, with this \n",
    "        numerator = np.exp(z)\n",
    "        denominator = np.sum(numerator,1)\n",
    "        denominator = denominator.reshape(matrix.shape[0],-1) # (number of samples, 1)\n",
    "        \n",
    "        probs = numerator/denominator\n",
    "        \n",
    "        return probs      \n",
    "          \n",
    "\n",
    "    \n",
    "    def __init__(self, architecture = [1024, 100, 10] , bias = False, activation = 'RELU',  learning_rate = 0.0015, \n",
    "                 regularizer_l2 = False, L2_term = 0.005, dropout = False, dropout_rate = 0.8):\n",
    "        \n",
    "        self.bias = bias\n",
    "        \n",
    "        self.activation = activation\n",
    "        \n",
    "        self.architecture = architecture\n",
    "        \n",
    "        self.learning_rate = learning_rate\n",
    "        \n",
    "        self.regularizer_l2 = regularizer_l2\n",
    "        \n",
    "        self.L2_term = L2_term\n",
    "        \n",
    "        self.dropout = dropout\n",
    "        \n",
    "        self.dropout_rate = dropout_rate\n",
    "        \n",
    "        self.initialize_weights() #initialize weights by taking into account the architecture\n",
    "        \n",
    "      \n",
    "        \n",
    "    def initialize_weights(self):\n",
    "            \n",
    "            self.weights = []\n",
    "            self.biases = []\n",
    "            \n",
    "            #initialize weights for arbitrary lenght NN \n",
    "            \n",
    "            for _ in range(len(self.architecture)-1):\n",
    "                \n",
    "                weight_matrix = np.random.normal(loc=0.0,scale=2/np.sqrt(self.architecture[_]+self.architecture[_+1]),\n",
    "                                                 size=(self.architecture[_],self.architecture[_+1]))\n",
    "                \n",
    "                self.weights.append(weight_matrix)\n",
    "                \n",
    "                \n",
    "    def calculate_cost_batch(self, probs, labels):\n",
    "          \n",
    "          losses = labels * np.log(probs+ 1e-5) # works against underflow\n",
    "          \n",
    "          #losses\n",
    "          \n",
    "          batch_loss = - losses.sum()\n",
    "          \n",
    "          return batch_loss\n",
    "\n",
    "    def train_on_batch(self, batch_samples, batch_labels):\n",
    "        \n",
    "          if self.dropout == False:\n",
    "                batch_probs, hidden_activations = self.forward_batch_propagation(batch_samples)  \n",
    "          else:\n",
    "                batch_probs, hidden_activations, activation_masks = self.forward_batch_propagation_dropout(batch_samples)\n",
    "                      \n",
    "          #calculate batch loss      \n",
    "          batch_loss = self.calculate_cost_batch( batch_probs, batch_labels )\n",
    "          self.batch_loss = batch_loss       \n",
    "                \n",
    "          ####update weights for the batch, first backpropagate the error, and then update each weight matrix\n",
    "          if self.dropout == False : \n",
    "                \n",
    "                self.update_weights_batch( batch_probs, hidden_activations, batch_labels, batch_samples )\n",
    "                \n",
    "          \n",
    "          else:\n",
    "                self.update_weights_batch_dropout( batch_probs, hidden_activations, batch_labels, batch_samples, activation_masks) \n",
    "                \n",
    "                \n",
    "          return True       \n",
    "    \n",
    "      \n",
    "      \n",
    "      \n",
    "    def forward_batch_propagation_dropout(self,batch_samples):\n",
    "          \n",
    "          # create activation masks for every hidden layer (No masks will be create for the input and output layers)\n",
    "          \n",
    "          activation_masks = [] \n",
    "          \n",
    "          nn_layers = self.architecture[1:-1] # grab the dimensions of the hidden layers, excluding the first and last layers \n",
    "          \n",
    "          # nn_layers --> number of masks \n",
    "          \n",
    "          for layer in nn_layers:\n",
    "                \n",
    "                activation_mask = (np.random.rand(batch_samples.shape[0],layer) < self.dropout_rate) / self.dropout_rate\n",
    "                \n",
    "                activation_masks.append(activation_mask)\n",
    "                \n",
    "         \n",
    "          #activation_masks.insert(0, np.ones(batch_samples.shape))   #add ones matrix for the first transformation\n",
    "         ## forward propagation using masks\n",
    "         \n",
    "         # 1. linear transformation \n",
    "         \n",
    "         # 2. non-linear activation\n",
    "         \n",
    "         # 3. activation_mask application\n",
    "         \n",
    "          input_batch = batch_samples\n",
    "          hidden_activations = [] # \n",
    "          \n",
    "          mask_counter = 0\n",
    "        \n",
    "          for weight in self.weights:\n",
    "            \n",
    "              trans_batch = np.dot(input_batch, weight) #matrix multiplication, no biasses added\n",
    "            \n",
    "              if weight.shape[1] == 10: #if we are multipying the by the final weight matrix\n",
    "                  #apply softmax activation to the batch\n",
    "                  probabilities_batch = self.softmax_activation_batch(trans_batch)\n",
    "                  break\n",
    "                \n",
    "                \n",
    "              elif self.activation == 'RELU':   \n",
    "                \n",
    "                  output_batch = self.relu_activation_batch(trans_batch)\n",
    "                  output_batch = output_batch * activation_masks[mask_counter] #dropout \n",
    "                  hidden_activations.append(output_batch)\n",
    "                  \n",
    "                  mask_counter += 1\n",
    "                  \n",
    "                \n",
    "              elif self.activation == 'LINEAR':\n",
    "                \n",
    "                  output_batch = self.linear_activation_batch(trans_batch)\n",
    "                  hidden_activations.append(output_batch)\n",
    "        \n",
    "              input_batch = output_batch\n",
    "         \n",
    "         \n",
    "          \n",
    "          return probabilities_batch, hidden_activations, activation_masks\n",
    "    \n",
    "      \n",
    "    def update_weights_batch_dropout(self,batch_probs, hidden_activations,  batch_labels, batch_samples ,activation_masks) :\n",
    "          \n",
    "          \n",
    "          hidden_activations.reverse()\n",
    "          \n",
    "          # error to propagate \n",
    "          output_layer_error = batch_probs - batch_labels \n",
    "          \n",
    "          \n",
    "          weights_list = list(self.weights)\n",
    "          weights_list.reverse()\n",
    "          \n",
    "          layer_errors = []  \n",
    "          layer_errors.append(output_layer_error.T)\n",
    "                   \n",
    "          error_l = output_layer_error     \n",
    "          \n",
    "          # back-prop using the activation masks for dropout\n",
    "    \n",
    "          for i in range(len(weights_list)-1):\n",
    "                \n",
    "                    \n",
    "                error_term = np.dot(weights_list[i],error_l.T)\n",
    "                \n",
    "                derivative_term = self.relu_derivative_batch(hidden_activations[i].T)\n",
    "                \n",
    "                #element-wise multiplication for the full error expression\n",
    "                error_l_minus = error_term * derivative_term\n",
    "                \n",
    "                layer_errors.append(error_l_minus)\n",
    "                \n",
    "                error_l = error_l_minus.T\n",
    "\n",
    "\n",
    "\n",
    "          activations = list(hidden_activations)\n",
    "          activations.reverse()\n",
    "          \n",
    "          activations.insert(0,batch_samples)\n",
    "          activations.reverse()       \n",
    "          \n",
    "          \n",
    "          ## weight updates using the hidden activations and layer error\n",
    "          activation_masks.reverse()\n",
    "          activation_masks.append( np.ones(batch_samples.shape)) \n",
    "          mask_counter = 0\n",
    "          \n",
    "          for i in range(len(layer_errors)):\n",
    "                \n",
    "                masked_activation = activations[i] * activation_masks[mask_counter] \n",
    "                weight_update = np.dot(layer_errors[i], masked_activation)\n",
    "                \n",
    "                weights_list[i] -= self.learning_rate * weight_update.T #take some of the gradient using learning rate\n",
    "                \n",
    "                mask_counter += 1\n",
    "          \n",
    "          weights_list.reverse()\n",
    "          \n",
    "          \n",
    "          # finally replace the weights with upadted ones \n",
    "          self.weights = weights_list\n",
    "          \n",
    "          \n",
    "    def forward_batch_propagation(self, batch_samples):\n",
    "        \n",
    "        # propagate the batch signal through the network, not using biases \n",
    "        input_batch = batch_samples\n",
    "        hidden_activations = [] # needed for gradient calculation\n",
    "        \n",
    "        for weight in self.weights:\n",
    "            \n",
    "            trans_batch = np.dot(input_batch, weight) #matrix multiplication, no biasses added\n",
    "            \n",
    "            if weight.shape[1] == 10: #if we are multipying the by the final weight matrix\n",
    "                #apply softmax activation to the batch\n",
    "                probabilities_batch = self.softmax_activation_batch(trans_batch)\n",
    "                break\n",
    "                \n",
    "                \n",
    "            elif self.activation == 'RELU':   \n",
    "                \n",
    "                output_batch = self.relu_activation_batch(trans_batch)\n",
    "                hidden_activations.append(output_batch)\n",
    "                \n",
    "            elif self.activation == 'LINEAR':\n",
    "                \n",
    "                output_batch = self.linear_activation_batch(trans_batch)\n",
    "                hidden_activations.append(output_batch)\n",
    "\n",
    "                \n",
    "            input_batch = output_batch\n",
    "                \n",
    "            \n",
    "        \n",
    "        return probabilities_batch, hidden_activations\n",
    "                  \n",
    "        \n",
    "     \n",
    "    def update_weights_batch(self, batch_probs, hidden_activations, batch_labels, batch_samples) :\n",
    "          \n",
    "          hidden_activations.reverse()\n",
    "          \n",
    "          output_layer_error = batch_probs - batch_labels # error to propagate \n",
    "          \n",
    "          weights_list = list(self.weights)\n",
    "          weights_list.reverse()\n",
    "          \n",
    "          layer_errors = []  # reverse this if needed\n",
    "          \n",
    "          layer_errors.append(output_layer_error.T)\n",
    "         \n",
    "          \n",
    "          error_l = output_layer_error\n",
    "          \n",
    "          # for an NN with 2 hidden layers, 2 back-propagation methods will be run\n",
    "          \n",
    "          # add clause for linear and sigmoid derivative apropriatly.\n",
    "          \n",
    "          # back-prop of the eror to every layer in the network \n",
    "          for i in range(len(weights_list)-1):\n",
    "                \n",
    "                error_term = np.dot(weights_list[i],error_l.T)\n",
    "                \n",
    "                derivative_term = self.relu_derivative_batch(hidden_activations[i].T)\n",
    "                \n",
    "                #element-wise multiplication for the full error expression\n",
    "                error_l_minus = error_term * derivative_term\n",
    "                \n",
    "                layer_errors.append(error_l_minus)\n",
    "                \n",
    "                error_l = error_l_minus.T\n",
    "                \n",
    "          activations = list(hidden_activations)\n",
    "          activations.reverse()\n",
    "          \n",
    "          activations.insert(0,batch_samples)\n",
    "          activations.reverse()\n",
    "\n",
    "          for i in range(len(layer_errors)):\n",
    "                \n",
    "                weight_update = np.dot(layer_errors[i],activations[i])\n",
    "                \n",
    "                weights_list[i] -= self.learning_rate * weight_update.T #take some of the gradient using learning rate\n",
    "                \n",
    "          \n",
    "          weights_list.reverse()\n",
    "          \n",
    "          self.weights = weights_list\n",
    "\n",
    "    def evaluate(self,data,labels):\n",
    "        \n",
    "        corrects, wrongs = 0, 0\n",
    "        \n",
    "        for i in range(len(data)):\n",
    "              \n",
    "            res = self.infer_sample(data[i])\n",
    "            #sumaaaaaaaaaaaa = res.sum()\n",
    "            res_max = res.argmax()\n",
    "            #ruin=labels[i]\n",
    "            \n",
    "            if res_max == labels[i]:\n",
    "                corrects += 1\n",
    "            else:\n",
    "                wrongs += 1\n",
    "        return corrects, wrongs    \n",
    "\n",
    "\n",
    "\n",
    "    def infer_sample(self,sample):\n",
    "        #use this function to get a sample prediction, after the network has been trained   \n",
    "        prediction = self.signal_propagation_test(sample)\n",
    "          \n",
    "        return prediction  \n",
    "  \n",
    "   \n",
    "    def signal_propagation_test(self,sample):\n",
    "                              \n",
    "          trans_vector = sample\n",
    "          \n",
    "          for weight in self.weights:\n",
    "                \n",
    "                trans_vector = np.dot(trans_vector, weight) # matrix transformation \n",
    "                \n",
    "                trans_vector = self.relu_activation_batch(trans_vector) # relu activation, no bias added\n",
    "                \n",
    "          prediction = trans_vector \n",
    "          \n",
    "          return prediction\n",
    "                "
   ]
  },
  {
   "cell_type": "code",
   "execution_count": 37,
   "metadata": {},
   "outputs": [],
   "source": [
    "np.random.seed(8)\n",
    "np.random.RandomState(8)\n",
    "\n",
    "drop_nn1 = dropout_nn( architecture = [1024,100,100,10], bias = False, activation = 'RELU',  \n",
    "                     learning_rate = 0.0001, dropout = True, dropout_rate = 0.4)\n"
   ]
  },
  {
   "cell_type": "code",
   "execution_count": 38,
   "metadata": {},
   "outputs": [
    {
     "name": "stdout",
     "output_type": "stream",
     "text": [
      "\n",
      "\n",
      "\n",
      "  Testing accuracy before TRAINING  0.07559926244622003 \n",
      "\n"
     ]
    }
   ],
   "source": [
    "print('\\n')\n",
    "weights = drop_nn1.weights\n",
    "\n",
    "### Test the network with no training \n",
    "corrects, wrongs = drop_nn1.evaluate(test_imgs, test_labels)\n",
    "print(\"\\n  Testing accuracy before TRAINING \", corrects / ( corrects + wrongs), '\\n')"
   ]
  },
  {
   "cell_type": "code",
   "execution_count": 39,
   "metadata": {},
   "outputs": [],
   "source": [
    "# Mini-batch gradient descent \n",
    "batch_size = 256 #size of the mini-batch\n",
    "epochs = 50\n",
    "drop_nn1_iteration_losses = [] #should be the same len aas the number of iteratios\n",
    "drop_nn1_epoch_accuracies = []\n",
    "\n",
    "#Print training elements\n",
    "num_of_batches = round(train_imgs.shape[0] / batch_size) +1\n",
    "num_of_iterations = epochs * num_of_batches"
   ]
  },
  {
   "cell_type": "code",
   "execution_count": 40,
   "metadata": {},
   "outputs": [
    {
     "name": "stdout",
     "output_type": "stream",
     "text": [
      "\n",
      " Batch size 256\n",
      "_________________________________________________\n",
      "\n",
      " Number of batches per epoch 287\n",
      "_________________________________________________\n",
      "\n",
      " Number of iterations to perform: 14350\n",
      "_________________________________________________\n",
      "\n",
      " To perform Dropout: True\n",
      "_________________________________________________\n",
      "_________________________________________________\n"
     ]
    }
   ],
   "source": [
    "print ('\\n Batch size',batch_size )\n",
    "print('_________________________________________________')\n",
    "\n",
    "\n",
    "print ('\\n Number of batches per epoch',num_of_batches )\n",
    "print('_________________________________________________')\n",
    "\n",
    "print ('\\n Number of iterations to perform:',num_of_iterations )\n",
    "print('_________________________________________________')\n",
    "print ('\\n To perform Dropout:',drop_nn1.dropout )\n",
    "print('_________________________________________________')\n",
    "print('_________________________________________________')"
   ]
  },
  {
   "cell_type": "code",
   "execution_count": 41,
   "metadata": {
    "scrolled": true
   },
   "outputs": [
    {
     "name": "stdout",
     "output_type": "stream",
     "text": [
      "_________________________________________________\n",
      "\n",
      "Training accuracy after epoch  0.1892924908199899 \n",
      "\n",
      "Epochs completed 1 / 50 \n",
      "_________________________________________________\n",
      "\n",
      "Training accuracy after epoch  0.18918328623885772 \n",
      "\n",
      "Epochs completed 2 / 50 \n",
      "_________________________________________________\n",
      "\n",
      "Training accuracy after epoch  0.18884202192281965 \n",
      "\n",
      "Epochs completed 3 / 50 \n",
      "_________________________________________________\n",
      "\n",
      "Training accuracy after epoch  0.18833695073508333 \n",
      "\n",
      "Epochs completed 4 / 50 \n",
      "_________________________________________________\n",
      "\n",
      "Training accuracy after epoch  0.18895122650395185 \n",
      "\n",
      "Epochs completed 5 / 50 \n",
      "_________________________________________________\n",
      "\n",
      "Training accuracy after epoch  0.1881321921454605 \n",
      "\n",
      "Epochs completed 6 / 50 \n",
      "_________________________________________________\n",
      "\n",
      "Training accuracy after epoch  0.19269148340772896 \n",
      "\n",
      "Epochs completed 7 / 50 \n",
      "_________________________________________________\n",
      "\n",
      "Training accuracy after epoch  0.2055093711181184 \n",
      "\n",
      "Epochs completed 8 / 50 \n",
      "_________________________________________________\n",
      "\n",
      "Training accuracy after epoch  0.22704997474644062 \n",
      "\n",
      "Epochs completed 9 / 50 \n",
      "_________________________________________________\n",
      "\n",
      "Training accuracy after epoch  0.24369002279645632 \n",
      "\n",
      "Epochs completed 10 / 50 \n",
      "_________________________________________________\n",
      "\n",
      "Training accuracy after epoch  0.2631830405285502 \n",
      "\n",
      "Epochs completed 11 / 50 \n",
      "_________________________________________________\n",
      "\n",
      "Training accuracy after epoch  0.2745812686842213 \n",
      "\n",
      "Epochs completed 12 / 50 \n",
      "_________________________________________________\n",
      "\n",
      "Training accuracy after epoch  0.2846690418663063 \n",
      "\n",
      "Epochs completed 13 / 50 \n",
      "_________________________________________________\n",
      "\n",
      "Training accuracy after epoch  0.2816386147398883 \n",
      "\n",
      "Epochs completed 14 / 50 \n",
      "_________________________________________________\n",
      "\n",
      "Training accuracy after epoch  0.2984970719521684 \n",
      "\n",
      "Epochs completed 15 / 50 \n",
      "_________________________________________________\n",
      "\n",
      "Training accuracy after epoch  0.30435316761538145 \n",
      "\n",
      "Epochs completed 16 / 50 \n",
      "_________________________________________________\n",
      "\n",
      "Training accuracy after epoch  0.30697407756255374 \n",
      "\n",
      "Epochs completed 17 / 50 \n",
      "_________________________________________________\n",
      "\n",
      "Training accuracy after epoch  0.30784771421161117 \n",
      "\n",
      "Epochs completed 18 / 50 \n",
      "_________________________________________________\n",
      "\n",
      "Training accuracy after epoch  0.3264534447220061 \n",
      "\n",
      "Epochs completed 19 / 50 \n",
      "_________________________________________________\n",
      "\n",
      "Training accuracy after epoch  0.32906070409653687 \n",
      "\n",
      "Epochs completed 20 / 50 \n",
      "_________________________________________________\n",
      "\n",
      "Training accuracy after epoch  0.334657438879561 \n",
      "\n",
      "Epochs completed 21 / 50 \n",
      "_________________________________________________\n",
      "\n",
      "Training accuracy after epoch  0.33853420150975333 \n",
      "\n",
      "Epochs completed 22 / 50 \n",
      "_________________________________________________\n",
      "\n",
      "Training accuracy after epoch  0.34269762616541766 \n",
      "\n",
      "Epochs completed 23 / 50 \n",
      "_________________________________________________\n",
      "\n",
      "Training accuracy after epoch  0.3555837667390147 \n",
      "\n",
      "Epochs completed 24 / 50 \n",
      "_________________________________________________\n",
      "\n",
      "Training accuracy after epoch  0.3532085670993898 \n",
      "\n",
      "Epochs completed 25 / 50 \n",
      "_________________________________________________\n",
      "\n",
      "Training accuracy after epoch  0.3654394801861938 \n",
      "\n",
      "Epochs completed 26 / 50 \n",
      "_________________________________________________\n",
      "\n",
      "Training accuracy after epoch  0.36826514872298893 \n",
      "\n",
      "Epochs completed 27 / 50 \n",
      "_________________________________________________\n",
      "\n",
      "Training accuracy after epoch  0.3753907476418636 \n",
      "\n",
      "Epochs completed 28 / 50 \n",
      "_________________________________________________\n",
      "\n",
      "Training accuracy after epoch  0.3745307615654477 \n",
      "\n",
      "Epochs completed 29 / 50 \n",
      "_________________________________________________\n",
      "\n",
      "Training accuracy after epoch  0.38008654463054725 \n",
      "\n",
      "Epochs completed 30 / 50 \n",
      "_________________________________________________\n",
      "\n",
      "Training accuracy after epoch  0.3939691770069754 \n",
      "\n",
      "Epochs completed 31 / 50 \n",
      "_________________________________________________\n",
      "\n",
      "Training accuracy after epoch  0.39477456079282525 \n",
      "\n",
      "Epochs completed 32 / 50 \n",
      "_________________________________________________\n",
      "\n",
      "Training accuracy after epoch  0.3940101287249 \n",
      "\n",
      "Epochs completed 33 / 50 \n",
      "_________________________________________________\n",
      "\n",
      "Training accuracy after epoch  0.40333346983905977 \n",
      "\n",
      "Epochs completed 34 / 50 \n",
      "_________________________________________________\n",
      "\n",
      "Training accuracy after epoch  0.41026796074095306 \n",
      "\n",
      "Epochs completed 35 / 50 \n",
      "_________________________________________________\n",
      "\n",
      "Training accuracy after epoch  0.4130526775598236 \n",
      "\n",
      "Epochs completed 36 / 50 \n",
      "_________________________________________________\n",
      "\n",
      "Training accuracy after epoch  0.4223077658107758 \n",
      "\n",
      "Epochs completed 37 / 50 \n",
      "_________________________________________________\n",
      "\n",
      "Training accuracy after epoch  0.420615094803227 \n",
      "\n",
      "Epochs completed 38 / 50 \n",
      "_________________________________________________\n",
      "\n",
      "Training accuracy after epoch  0.43172666093342615 \n",
      "\n",
      "Epochs completed 39 / 50 \n",
      "_________________________________________________\n",
      "\n",
      "Training accuracy after epoch  0.42693530993625184 \n",
      "\n",
      "Epochs completed 40 / 50 \n",
      "_________________________________________________\n",
      "\n",
      "Training accuracy after epoch  0.432559345864559 \n",
      "\n",
      "Epochs completed 41 / 50 \n",
      "_________________________________________________\n",
      "\n",
      "Training accuracy after epoch  0.43664086708437416 \n",
      "\n",
      "Epochs completed 42 / 50 \n",
      "_________________________________________________\n",
      "\n",
      "Training accuracy after epoch  0.4398214505098489 \n",
      "\n",
      "Epochs completed 43 / 50 \n",
      "_________________________________________________\n",
      "\n",
      "Training accuracy after epoch  0.4409544480390952 \n",
      "\n",
      "Epochs completed 44 / 50 \n",
      "_________________________________________________\n",
      "\n",
      "Training accuracy after epoch  0.44346615340513534 \n",
      "\n",
      "Epochs completed 45 / 50 \n",
      "_________________________________________________\n",
      "\n",
      "Training accuracy after epoch  0.4551100918683539 \n",
      "\n",
      "Epochs completed 46 / 50 \n",
      "_________________________________________________\n",
      "\n",
      "Training accuracy after epoch  0.4562294388249587 \n",
      "\n",
      "Epochs completed 47 / 50 \n",
      "_________________________________________________\n",
      "\n",
      "Training accuracy after epoch  0.4578129052513753 \n",
      "\n",
      "Epochs completed 48 / 50 \n",
      "_________________________________________________\n",
      "\n",
      "Training accuracy after epoch  0.462536003385342 \n",
      "\n",
      "Epochs completed 49 / 50 \n",
      "_________________________________________________\n",
      "\n",
      "Training accuracy after epoch  0.46103444039477454 \n",
      "\n",
      "Epochs completed 50 / 50 \n"
     ]
    }
   ],
   "source": [
    "#\n",
    "# Training loop\n",
    "#\n",
    "np.random.seed(8)\n",
    "np.random.RandomState(8)\n",
    "\n",
    "\n",
    "for epoch in range(epochs):\n",
    "\n",
    "            # cycle through all minibatches of data\n",
    "            n_samples = train_imgs.shape[0]\n",
    "            #shuffle entire dataset indices for proper mini-batch GD\n",
    "            indices = np.arange(train_imgs.shape[0])\n",
    "            np.random.shuffle(indices)\n",
    "            \n",
    "            for start in range(0, n_samples, batch_size):\n",
    "            \n",
    "                  end = min (start + batch_size, n_samples)\n",
    "                  batch_indices = indices[start:end]\n",
    "                  \n",
    "                  #train nn on mini-batch data\n",
    "                  drop_nn1.train_on_batch(train_imgs[batch_indices],train_labels_one_hot[batch_indices])\n",
    "                  \n",
    "                  #save loss on the mini-batch\n",
    "                  drop_nn1_iteration_losses.append(drop_nn1.batch_loss)\n",
    "\n",
    "            \n",
    "            #Evaluate training accuracy after each iteration\n",
    "            corrects, wrongs = drop_nn1.evaluate(train_imgs, train_labels) #this is the integer representation\n",
    "            accu = corrects / ( corrects + wrongs)\n",
    "            print('_________________________________________________\\n')\n",
    "            print(\"Training accuracy after epoch \", accu, '\\n')\n",
    "            drop_nn1_epoch_accuracies.append(accu)\n",
    "            \n",
    "            #epoch completed \n",
    "            print (\"Epochs completed {} / {} \".format(epoch+1,epochs))\n"
   ]
  },
  {
   "cell_type": "code",
   "execution_count": 42,
   "metadata": {
    "scrolled": false
   },
   "outputs": [
    {
     "data": {
      "image/png": "[encoded data removed]",
      "text/plain": [
       "<Figure size 432x288 with 1 Axes>"
      ]
     },
     "metadata": {
      "needs_background": "light"
     },
     "output_type": "display_data"
    },
    {
     "data": {
      "image/png": "[encoded data removed]",
      "text/plain": [
       "<Figure size 432x288 with 1 Axes>"
      ]
     },
     "metadata": {
      "needs_background": "light"
     },
     "output_type": "display_data"
    },
    {
     "name": "stdout",
     "output_type": "stream",
     "text": [
      "\n",
      "  Testing accuracy after training  0.44779502151198525 \n",
      "\n"
     ]
    }
   ],
   "source": [
    "plt.plot(range(len(drop_nn1_iteration_losses)), drop_nn1_iteration_losses)\n",
    "plt.ylabel('Cost')\n",
    "plt.xlabel('Iterations')\n",
    "#plt.savefig('loss.png', dpi=300)\n",
    "plt.show()\n",
    "\n",
    "plt.plot(range(epochs), drop_nn1_epoch_accuracies)\n",
    "plt.ylabel('Accuracy %')\n",
    "plt.xlabel('Epochs')\n",
    "#plt.savefig('loss.png', dpi=300)\n",
    "plt.show()\n",
    "\n",
    "### Test the network with no training \n",
    "corrects, wrongs = drop_nn1.evaluate(test_imgs, test_labels)\n",
    "print(\"\\n  Testing accuracy after training \", corrects / ( corrects + wrongs), '\\n')"
   ]
  },
  {
   "cell_type": "markdown",
   "metadata": {},
   "source": [
    "### 2nd Model, with less regularization "
   ]
  },
  {
   "cell_type": "code",
   "execution_count": 43,
   "metadata": {},
   "outputs": [],
   "source": [
    "np.random.seed(8)\n",
    "np.random.RandomState(8)\n",
    "\n",
    "drop_nn2 = dropout_nn( architecture = [1024,100,100,10], bias = False, activation = 'RELU',  \n",
    "                     learning_rate = 0.0001, dropout = True, dropout_rate = 0.8)"
   ]
  },
  {
   "cell_type": "code",
   "execution_count": 44,
   "metadata": {},
   "outputs": [
    {
     "name": "stdout",
     "output_type": "stream",
     "text": [
      "\n",
      "\n",
      "\n",
      "  Testing accuracy before TRAINING  0.44779502151198525 \n",
      "\n"
     ]
    }
   ],
   "source": [
    "print('\\n')\n",
    "weights = drop_nn2.weights\n",
    "\n",
    "### Test the network with no training \n",
    "corrects, wrongs = drop_nn1.evaluate(test_imgs, test_labels)\n",
    "print(\"\\n  Testing accuracy before TRAINING \", corrects / ( corrects + wrongs), '\\n')"
   ]
  },
  {
   "cell_type": "code",
   "execution_count": 45,
   "metadata": {},
   "outputs": [],
   "source": [
    "drop_nn2_iteration_losses = [] #should be the same len aas the number of iteratios\n",
    "drop_nn2_epoch_accuracies = []"
   ]
  },
  {
   "cell_type": "code",
   "execution_count": 46,
   "metadata": {
    "scrolled": true
   },
   "outputs": [
    {
     "name": "stdout",
     "output_type": "stream",
     "text": [
      "_________________________________________________\n",
      "\n",
      "Training accuracy after epoch  0.20350273693981463 \n",
      "\n",
      "Epochs completed 1 / 50 \n",
      "_________________________________________________\n",
      "\n",
      "Training accuracy after epoch  0.2797138839974337 \n",
      "\n",
      "Epochs completed 2 / 50 \n",
      "_________________________________________________\n",
      "\n",
      "Training accuracy after epoch  0.3645658435371364 \n",
      "\n",
      "Epochs completed 3 / 50 \n",
      "_________________________________________________\n",
      "\n",
      "Training accuracy after epoch  0.4299657370626698 \n",
      "\n",
      "Epochs completed 4 / 50 \n",
      "_________________________________________________\n",
      "\n",
      "Training accuracy after epoch  0.4522434716136342 \n",
      "\n",
      "Epochs completed 5 / 50 \n",
      "_________________________________________________\n",
      "\n",
      "Training accuracy after epoch  0.4767735506504498 \n",
      "\n",
      "Epochs completed 6 / 50 \n",
      "_________________________________________________\n",
      "\n",
      "Training accuracy after epoch  0.48159220279290715 \n",
      "\n",
      "Epochs completed 7 / 50 \n",
      "_________________________________________________\n",
      "\n",
      "Training accuracy after epoch  0.5140942162523718 \n",
      "\n",
      "Epochs completed 8 / 50 \n",
      "_________________________________________________\n",
      "\n",
      "Training accuracy after epoch  0.5242775434429474 \n",
      "\n",
      "Epochs completed 9 / 50 \n",
      "_________________________________________________\n",
      "\n",
      "Training accuracy after epoch  0.5250010237929481 \n",
      "\n",
      "Epochs completed 10 / 50 \n",
      "_________________________________________________\n",
      "\n",
      "Training accuracy after epoch  0.545149269011835 \n",
      "\n",
      "Epochs completed 11 / 50 \n",
      "_________________________________________________\n",
      "\n",
      "Training accuracy after epoch  0.5551141870401464 \n",
      "\n",
      "Epochs completed 12 / 50 \n",
      "_________________________________________________\n",
      "\n",
      "Training accuracy after epoch  0.5614753538910957 \n",
      "\n",
      "Epochs completed 13 / 50 \n",
      "_________________________________________________\n",
      "\n",
      "Training accuracy after epoch  0.5673451001269503 \n",
      "\n",
      "Epochs completed 14 / 50 \n",
      "_________________________________________________\n",
      "\n",
      "Training accuracy after epoch  0.5811731302128125 \n",
      "\n",
      "Epochs completed 15 / 50 \n",
      "_________________________________________________\n",
      "\n",
      "Training accuracy after epoch  0.581896610562813 \n",
      "\n",
      "Epochs completed 16 / 50 \n",
      "_________________________________________________\n",
      "\n",
      "Training accuracy after epoch  0.5807909141788498 \n",
      "\n",
      "Epochs completed 17 / 50 \n",
      "_________________________________________________\n",
      "\n",
      "Training accuracy after epoch  0.5891041129175368 \n",
      "\n",
      "Epochs completed 18 / 50 \n",
      "_________________________________________________\n",
      "\n",
      "Training accuracy after epoch  0.6041470439684945 \n",
      "\n",
      "Epochs completed 19 / 50 \n",
      "_________________________________________________\n",
      "\n",
      "Training accuracy after epoch  0.6075596871288751 \n",
      "\n",
      "Epochs completed 20 / 50 \n",
      "_________________________________________________\n",
      "\n",
      "Training accuracy after epoch  0.6119415209468038 \n",
      "\n",
      "Epochs completed 21 / 50 \n",
      "_________________________________________________\n",
      "\n",
      "Training accuracy after epoch  0.6140846608515227 \n",
      "\n",
      "Epochs completed 22 / 50 \n",
      "_________________________________________________\n",
      "\n",
      "Training accuracy after epoch  0.6080784088892529 \n",
      "\n",
      "Epochs completed 23 / 50 \n",
      "_________________________________________________\n",
      "\n",
      "Training accuracy after epoch  0.6188077589854895 \n",
      "\n",
      "Epochs completed 24 / 50 \n",
      "_________________________________________________\n",
      "\n",
      "Training accuracy after epoch  0.6214832712232278 \n",
      "\n",
      "Epochs completed 25 / 50 \n",
      "_________________________________________________\n",
      "\n",
      "Training accuracy after epoch  0.6226708710430403 \n",
      "\n",
      "Epochs completed 26 / 50 \n",
      "_________________________________________________\n",
      "\n",
      "Training accuracy after epoch  0.6216743792402091 \n",
      "\n",
      "Epochs completed 27 / 50 \n",
      "_________________________________________________\n",
      "\n",
      "Training accuracy after epoch  0.624049578879834 \n",
      "\n",
      "Epochs completed 28 / 50 \n",
      "_________________________________________________\n",
      "\n",
      "Training accuracy after epoch  0.6229984847864368 \n",
      "\n",
      "Epochs completed 29 / 50 \n",
      "_________________________________________________\n",
      "\n",
      "Training accuracy after epoch  0.6318440558581433 \n",
      "\n",
      "Epochs completed 30 / 50 \n",
      "_________________________________________________\n",
      "\n",
      "Training accuracy after epoch  0.6246911557939856 \n",
      "\n",
      "Epochs completed 31 / 50 \n",
      "_________________________________________________\n",
      "\n",
      "Training accuracy after epoch  0.6291412424751218 \n",
      "\n",
      "Epochs completed 32 / 50 \n",
      "_________________________________________________\n",
      "\n",
      "Training accuracy after epoch  0.6372087309062615 \n",
      "\n",
      "Epochs completed 33 / 50 \n",
      "_________________________________________________\n",
      "\n",
      "Training accuracy after epoch  0.6343148095062587 \n",
      "\n",
      "Epochs completed 34 / 50 \n",
      "_________________________________________________\n",
      "\n",
      "Training accuracy after epoch  0.6373452366326767 \n",
      "\n",
      "Epochs completed 35 / 50 \n",
      "_________________________________________________\n",
      "\n",
      "Training accuracy after epoch  0.6372223814789031 \n",
      "\n",
      "Epochs completed 36 / 50 \n",
      "_________________________________________________\n",
      "\n",
      "Training accuracy after epoch  0.6407578797930573 \n",
      "\n",
      "Epochs completed 37 / 50 \n",
      "_________________________________________________\n",
      "\n",
      "Training accuracy after epoch  0.6402391580326795 \n",
      "\n",
      "Epochs completed 38 / 50 \n",
      "_________________________________________________\n",
      "\n",
      "Training accuracy after epoch  0.6409489878100386 \n",
      "\n",
      "Epochs completed 39 / 50 \n",
      "_________________________________________________\n",
      "\n",
      "Training accuracy after epoch  0.6428464174072103 \n",
      "\n",
      "Epochs completed 40 / 50 \n",
      "_________________________________________________\n",
      "\n",
      "Training accuracy after epoch  0.6447847987223064 \n",
      "\n",
      "Epochs completed 41 / 50 \n",
      "_________________________________________________\n",
      "\n",
      "Training accuracy after epoch  0.644484486124193 \n",
      "\n",
      "Epochs completed 42 / 50 \n",
      "_________________________________________________\n",
      "\n",
      "Training accuracy after epoch  0.6488663199421215 \n",
      "\n",
      "Epochs completed 43 / 50 \n",
      "_________________________________________________\n",
      "\n",
      "Training accuracy after epoch  0.6465320720204213 \n",
      "\n",
      "Epochs completed 44 / 50 \n",
      "_________________________________________________\n",
      "\n",
      "Training accuracy after epoch  0.647910779857215 \n",
      "\n",
      "Epochs completed 45 / 50 \n",
      "_________________________________________________\n",
      "\n",
      "Training accuracy after epoch  0.650941206983633 \n",
      "\n",
      "Epochs completed 46 / 50 \n",
      "_________________________________________________\n",
      "\n",
      "Training accuracy after epoch  0.6526748297091063 \n",
      "\n",
      "Epochs completed 47 / 50 \n",
      "_________________________________________________\n",
      "\n",
      "Training accuracy after epoch  0.6475831661138185 \n",
      "\n",
      "Epochs completed 48 / 50 \n",
      "_________________________________________________\n",
      "\n",
      "Training accuracy after epoch  0.6542719467081644 \n",
      "\n",
      "Epochs completed 49 / 50 \n",
      "_________________________________________________\n",
      "\n",
      "Training accuracy after epoch  0.6501494737704246 \n",
      "\n",
      "Epochs completed 50 / 50 \n"
     ]
    }
   ],
   "source": [
    "#\n",
    "# Training loop\n",
    "#\n",
    "np.random.seed(8)\n",
    "np.random.RandomState(8)\n",
    "\n",
    "for epoch in range(epochs):\n",
    "\n",
    "            # cycle through all minibatches of data\n",
    "            n_samples = train_imgs.shape[0]\n",
    "            #shuffle entire dataset indices for proper mini-batch GD\n",
    "            indices = np.arange(train_imgs.shape[0])\n",
    "            np.random.shuffle(indices)\n",
    "            \n",
    "            for start in range(0, n_samples, batch_size):\n",
    "            \n",
    "                  end = min (start + batch_size, n_samples)\n",
    "                  batch_indices = indices[start:end]\n",
    "                  \n",
    "                  #train nn on mini-batch data\n",
    "                  drop_nn2.train_on_batch(train_imgs[batch_indices],train_labels_one_hot[batch_indices])\n",
    "                  \n",
    "                  #save loss on the mini-batch\n",
    "                  drop_nn2_iteration_losses.append(drop_nn2.batch_loss)\n",
    "\n",
    "            \n",
    "            #Evaluate training accuracy after each iteration\n",
    "            corrects, wrongs = drop_nn2.evaluate(train_imgs, train_labels) #this is the integer representation\n",
    "            accu = corrects / ( corrects + wrongs)\n",
    "            print('_________________________________________________\\n')\n",
    "            print(\"Training accuracy after epoch \", accu, '\\n')\n",
    "            drop_nn2_epoch_accuracies.append(accu)\n",
    "            \n",
    "            #epoch completed \n",
    "            print (\"Epochs completed {} / {} \".format(epoch+1,epochs))"
   ]
  },
  {
   "cell_type": "code",
   "execution_count": 47,
   "metadata": {},
   "outputs": [
    {
     "data": {
      "image/png": "[encoded data removed]",
      "text/plain": [
       "<Figure size 432x288 with 1 Axes>"
      ]
     },
     "metadata": {
      "needs_background": "light"
     },
     "output_type": "display_data"
    },
    {
     "data": {
      "image/png": "[encoded data removed]",
      "text/plain": [
       "<Figure size 432x288 with 1 Axes>"
      ]
     },
     "metadata": {
      "needs_background": "light"
     },
     "output_type": "display_data"
    },
    {
     "name": "stdout",
     "output_type": "stream",
     "text": [
      "\n",
      "  Testing accuracy after training  0.6119007375537799 \n",
      "\n"
     ]
    }
   ],
   "source": [
    "plt.plot(range(len(drop_nn2_iteration_losses)), drop_nn2_iteration_losses)\n",
    "plt.ylabel('Cost')\n",
    "plt.xlabel('Iterations')\n",
    "#plt.savefig('loss.png', dpi=300)\n",
    "plt.show()\n",
    "\n",
    "plt.plot(range(epochs), drop_nn2_epoch_accuracies)\n",
    "plt.ylabel('Accuracy %')\n",
    "plt.xlabel('Epochs')\n",
    "#plt.savefig('loss.png', dpi=300)\n",
    "plt.show()\n",
    "\n",
    "### Test the network with no training \n",
    "corrects, wrongs = drop_nn2.evaluate(test_imgs, test_labels)\n",
    "print(\"\\n  Testing accuracy after training \", corrects / ( corrects + wrongs), '\\n')"
   ]
  },
  {
   "cell_type": "markdown",
   "metadata": {},
   "source": [
    "### Model Comparison"
   ]
  },
  {
   "cell_type": "code",
   "execution_count": 48,
   "metadata": {
    "scrolled": false
   },
   "outputs": [
    {
     "data": {
      "image/png": "[encoded data removed]",
      "text/plain": [
       "<Figure size 432x288 with 1 Axes>"
      ]
     },
     "metadata": {
      "needs_background": "light"
     },
     "output_type": "display_data"
    },
    {
     "data": {
      "image/png": "[encoded data removed]",
      "text/plain": [
       "<Figure size 432x288 with 1 Axes>"
      ]
     },
     "metadata": {
      "needs_background": "light"
     },
     "output_type": "display_data"
    }
   ],
   "source": [
    "plt.plot(range(len(drop_nn2_iteration_losses)), drop_nn2_iteration_losses, label = '2nd Model')\n",
    "plt.plot(range(len(drop_nn1_iteration_losses)), drop_nn1_iteration_losses, label = '1st Model')\n",
    "plt.legend(loc=\"upper right\")\n",
    "plt.ylabel('Cost')\n",
    "plt.xlabel('Iterations')\n",
    "plt.title('Dropout NNs comparison: Loss')\n",
    "plt.savefig('Result metrics//Dropout_NNs_loss.png', dpi=300)\n",
    "plt.show()\n",
    "\n",
    "plt.plot(range(epochs), drop_nn2_epoch_accuracies, label = '2nd Model')\n",
    "plt.plot(range(epochs), drop_nn1_epoch_accuracies, label = '1st Model')\n",
    "plt.ylabel('Accuracy %')\n",
    "plt.xlabel('Epochs')\n",
    "plt.legend(loc=\"upper left\")\n",
    "plt.title('Dropout NNs comparison: Accuracy')\n",
    "plt.savefig('Result metrics//Dropout_NNs_accuracy.png', dpi=300)\n",
    "plt.show()\n"
   ]
  },
  {
   "cell_type": "code",
   "execution_count": 49,
   "metadata": {
    "scrolled": true
   },
   "outputs": [
    {
     "name": "stdout",
     "output_type": "stream",
     "text": [
      "\n",
      "  Testing accuracy after training  0.6119007375537799 \n",
      "\n"
     ]
    }
   ],
   "source": [
    "corrects, wrongs = drop_nn2.evaluate(test_imgs, test_labels)\n",
    "print(\"\\n  Testing accuracy after training \", corrects / ( corrects + wrongs), '\\n')"
   ]
  },
  {
   "cell_type": "code",
   "execution_count": 50,
   "metadata": {
    "scrolled": true
   },
   "outputs": [
    {
     "name": "stdout",
     "output_type": "stream",
     "text": [
      "\n",
      "  Testing accuracy after training  0.44779502151198525 \n",
      "\n"
     ]
    }
   ],
   "source": [
    "corrects, wrongs = drop_nn1.evaluate(test_imgs, test_labels)\n",
    "print(\"\\n  Testing accuracy after training \", corrects / ( corrects + wrongs), '\\n')"
   ]
  },
  {
   "cell_type": "markdown",
   "metadata": {},
   "source": [
    "# END OF NOTEBOOK "
   ]
  },
  {
   "cell_type": "code",
   "execution_count": null,
   "metadata": {},
   "outputs": [],
   "source": []
  }
 ],
 "metadata": {
  "kernelspec": {
   "display_name": "Python 3",
   "language": "python",
   "name": "python3"
  },
  "language_info": {
   "codemirror_mode": {
    "name": "ipython",
    "version": 3
   },
   "file_extension": ".py",
   "mimetype": "text/x-python",
   "name": "python",
   "nbconvert_exporter": "python",
   "pygments_lexer": "ipython3",
   "version": "3.7.3"
  }
 },
 "nbformat": 4,
 "nbformat_minor": 2
}
